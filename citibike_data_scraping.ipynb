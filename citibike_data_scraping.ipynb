{
 "cells": [
  {
   "cell_type": "markdown",
   "id": "c5ec1b6a",
   "metadata": {},
   "source": [
    "# Citibike Data Scraping\n",
    "\n",
    "The script below creates a directory called \"ridership_raw\", and scrapes the monthly ride level files from Citibike's website to save down and process.\n",
    "\n",
    "- Currently reads in data through October 2021\n",
    "- Instructions noted below on how to extend this for new data"
   ]
  },
  {
   "cell_type": "code",
   "execution_count": 35,
   "id": "b706cd83",
   "metadata": {},
   "outputs": [],
   "source": [
    "# Imports needed to read in and process zip files\n",
    "\n",
    "from urllib.request import urlopen\n",
    "import pandas as pd\n",
    "from zipfile import ZipFile\n",
    "import zipfile\n",
    "from io import BytesIO\n",
    "import os"
   ]
  },
  {
   "cell_type": "code",
   "execution_count": 28,
   "id": "4c187543",
   "metadata": {},
   "outputs": [
    {
     "data": {
      "text/plain": [
       "'/Users/jeffreymarvel/Flatiron/Phase 5/Capstone/citibike_ridership_project'"
      ]
     },
     "execution_count": 28,
     "metadata": {},
     "output_type": "execute_result"
    }
   ],
   "source": [
    "pwd"
   ]
  },
  {
   "cell_type": "code",
   "execution_count": 32,
   "id": "993ac1dd",
   "metadata": {},
   "outputs": [],
   "source": [
    "# make a directory to store the results\n",
    "\n",
    "# os.makedirs('ridership_raw')"
   ]
  },
  {
   "cell_type": "code",
   "execution_count": 22,
   "id": "969dc179",
   "metadata": {},
   "outputs": [],
   "source": [
    "# Instansiate empty list to store the URLs\n",
    "\n",
    "url_list = []"
   ]
  },
  {
   "cell_type": "code",
   "execution_count": null,
   "id": "c355bd22",
   "metadata": {},
   "outputs": [],
   "source": [
    "# Stop at the end of 2016\n",
    "\n",
    "# 201612-citibike-tripdata.zip"
   ]
  },
  {
   "cell_type": "code",
   "execution_count": 23,
   "id": "11d01adf",
   "metadata": {},
   "outputs": [],
   "source": [
    "# Create list of URLs up through the end of 2016 given similar file naming convention\n",
    "\n",
    "month = 6\n",
    "year = 2013\n",
    "\n",
    "while year < 2017:\n",
    "    \n",
    "    if month > 12:\n",
    "        month = 1\n",
    "        year += 1\n",
    "        \n",
    "    if year == 2017:\n",
    "        break\n",
    "    \n",
    "    if month >= 10:\n",
    "        url = f\"https://s3.amazonaws.com/tripdata/{year}{month}-citibike-tripdata.zip\"\n",
    "        url_list.append(url)\n",
    "        \n",
    "    else:\n",
    "        url = f\"https://s3.amazonaws.com/tripdata/{year}0{month}-citibike-tripdata.zip\"\n",
    "        url_list.append(url)\n",
    "    \n",
    "    month += 1"
   ]
  },
  {
   "cell_type": "code",
   "execution_count": 25,
   "id": "4a0852d7",
   "metadata": {},
   "outputs": [],
   "source": [
    "# Read in remainder of CSVs as file names have changed\n",
    "# To update the number of months read in, refer to the comment below\n",
    "\n",
    "month = 1\n",
    "year = 2017\n",
    "\n",
    "# Change this while statement to < 2023 to read in files for 2022\n",
    "while year < 2022:\n",
    "    \n",
    "    if month > 12:\n",
    "        month = 1\n",
    "        year += 1\n",
    "\n",
    "# Change the year and month conditionals to the month you want to stop in.\n",
    "# For example: month == 11 will not read in November data\n",
    "    if (year == 2021) & (month == 11):\n",
    "        break\n",
    "    \n",
    "    if month >= 10:\n",
    "        url = f\"https://s3.amazonaws.com/tripdata/{year}{month}-citibike-tripdata.csv.zip\"\n",
    "        url_list.append(url)\n",
    "        \n",
    "    else:\n",
    "        url = f\"https://s3.amazonaws.com/tripdata/{year}0{month}-citibike-tripdata.csv.zip\"\n",
    "        url_list.append(url)\n",
    "    \n",
    "    month += 1"
   ]
  },
  {
   "cell_type": "code",
   "execution_count": 26,
   "id": "73e297d4",
   "metadata": {},
   "outputs": [
    {
     "data": {
      "text/plain": [
       "['https://s3.amazonaws.com/tripdata/201307-citibike-tripdata.zip',\n",
       " 'https://s3.amazonaws.com/tripdata/201308-citibike-tripdata.zip',\n",
       " 'https://s3.amazonaws.com/tripdata/201309-citibike-tripdata.zip',\n",
       " 'https://s3.amazonaws.com/tripdata/201310-citibike-tripdata.zip',\n",
       " 'https://s3.amazonaws.com/tripdata/201311-citibike-tripdata.zip',\n",
       " 'https://s3.amazonaws.com/tripdata/201312-citibike-tripdata.zip',\n",
       " 'https://s3.amazonaws.com/tripdata/201401-citibike-tripdata.zip',\n",
       " 'https://s3.amazonaws.com/tripdata/201402-citibike-tripdata.zip',\n",
       " 'https://s3.amazonaws.com/tripdata/201403-citibike-tripdata.zip',\n",
       " 'https://s3.amazonaws.com/tripdata/201404-citibike-tripdata.zip',\n",
       " 'https://s3.amazonaws.com/tripdata/201405-citibike-tripdata.zip',\n",
       " 'https://s3.amazonaws.com/tripdata/201406-citibike-tripdata.zip',\n",
       " 'https://s3.amazonaws.com/tripdata/201407-citibike-tripdata.zip',\n",
       " 'https://s3.amazonaws.com/tripdata/201408-citibike-tripdata.zip',\n",
       " 'https://s3.amazonaws.com/tripdata/201409-citibike-tripdata.zip',\n",
       " 'https://s3.amazonaws.com/tripdata/201410-citibike-tripdata.zip',\n",
       " 'https://s3.amazonaws.com/tripdata/201411-citibike-tripdata.zip',\n",
       " 'https://s3.amazonaws.com/tripdata/201412-citibike-tripdata.zip',\n",
       " 'https://s3.amazonaws.com/tripdata/201501-citibike-tripdata.zip',\n",
       " 'https://s3.amazonaws.com/tripdata/201502-citibike-tripdata.zip',\n",
       " 'https://s3.amazonaws.com/tripdata/201503-citibike-tripdata.zip',\n",
       " 'https://s3.amazonaws.com/tripdata/201504-citibike-tripdata.zip',\n",
       " 'https://s3.amazonaws.com/tripdata/201505-citibike-tripdata.zip',\n",
       " 'https://s3.amazonaws.com/tripdata/201506-citibike-tripdata.zip',\n",
       " 'https://s3.amazonaws.com/tripdata/201507-citibike-tripdata.zip',\n",
       " 'https://s3.amazonaws.com/tripdata/201508-citibike-tripdata.zip',\n",
       " 'https://s3.amazonaws.com/tripdata/201509-citibike-tripdata.zip',\n",
       " 'https://s3.amazonaws.com/tripdata/201510-citibike-tripdata.zip',\n",
       " 'https://s3.amazonaws.com/tripdata/201511-citibike-tripdata.zip',\n",
       " 'https://s3.amazonaws.com/tripdata/201512-citibike-tripdata.zip',\n",
       " 'https://s3.amazonaws.com/tripdata/201601-citibike-tripdata.zip',\n",
       " 'https://s3.amazonaws.com/tripdata/201602-citibike-tripdata.zip',\n",
       " 'https://s3.amazonaws.com/tripdata/201603-citibike-tripdata.zip',\n",
       " 'https://s3.amazonaws.com/tripdata/201604-citibike-tripdata.zip',\n",
       " 'https://s3.amazonaws.com/tripdata/201605-citibike-tripdata.zip',\n",
       " 'https://s3.amazonaws.com/tripdata/201606-citibike-tripdata.zip',\n",
       " 'https://s3.amazonaws.com/tripdata/201607-citibike-tripdata.zip',\n",
       " 'https://s3.amazonaws.com/tripdata/201608-citibike-tripdata.zip',\n",
       " 'https://s3.amazonaws.com/tripdata/201609-citibike-tripdata.zip',\n",
       " 'https://s3.amazonaws.com/tripdata/201610-citibike-tripdata.zip',\n",
       " 'https://s3.amazonaws.com/tripdata/201611-citibike-tripdata.zip',\n",
       " 'https://s3.amazonaws.com/tripdata/201612-citibike-tripdata.zip',\n",
       " 'https://s3.amazonaws.com/tripdata/201701-citibike-tripdata.csv.zip',\n",
       " 'https://s3.amazonaws.com/tripdata/201702-citibike-tripdata.csv.zip',\n",
       " 'https://s3.amazonaws.com/tripdata/201703-citibike-tripdata.csv.zip',\n",
       " 'https://s3.amazonaws.com/tripdata/201704-citibike-tripdata.csv.zip',\n",
       " 'https://s3.amazonaws.com/tripdata/201705-citibike-tripdata.csv.zip',\n",
       " 'https://s3.amazonaws.com/tripdata/201706-citibike-tripdata.csv.zip',\n",
       " 'https://s3.amazonaws.com/tripdata/201707-citibike-tripdata.csv.zip',\n",
       " 'https://s3.amazonaws.com/tripdata/201708-citibike-tripdata.csv.zip',\n",
       " 'https://s3.amazonaws.com/tripdata/201709-citibike-tripdata.csv.zip',\n",
       " 'https://s3.amazonaws.com/tripdata/201710-citibike-tripdata.csv.zip',\n",
       " 'https://s3.amazonaws.com/tripdata/201711-citibike-tripdata.csv.zip',\n",
       " 'https://s3.amazonaws.com/tripdata/201712-citibike-tripdata.csv.zip',\n",
       " 'https://s3.amazonaws.com/tripdata/201801-citibike-tripdata.csv.zip',\n",
       " 'https://s3.amazonaws.com/tripdata/201802-citibike-tripdata.csv.zip',\n",
       " 'https://s3.amazonaws.com/tripdata/201803-citibike-tripdata.csv.zip',\n",
       " 'https://s3.amazonaws.com/tripdata/201804-citibike-tripdata.csv.zip',\n",
       " 'https://s3.amazonaws.com/tripdata/201805-citibike-tripdata.csv.zip',\n",
       " 'https://s3.amazonaws.com/tripdata/201806-citibike-tripdata.csv.zip',\n",
       " 'https://s3.amazonaws.com/tripdata/201807-citibike-tripdata.csv.zip',\n",
       " 'https://s3.amazonaws.com/tripdata/201808-citibike-tripdata.csv.zip',\n",
       " 'https://s3.amazonaws.com/tripdata/201809-citibike-tripdata.csv.zip',\n",
       " 'https://s3.amazonaws.com/tripdata/201810-citibike-tripdata.csv.zip',\n",
       " 'https://s3.amazonaws.com/tripdata/201811-citibike-tripdata.csv.zip',\n",
       " 'https://s3.amazonaws.com/tripdata/201812-citibike-tripdata.csv.zip',\n",
       " 'https://s3.amazonaws.com/tripdata/201901-citibike-tripdata.csv.zip',\n",
       " 'https://s3.amazonaws.com/tripdata/201902-citibike-tripdata.csv.zip',\n",
       " 'https://s3.amazonaws.com/tripdata/201903-citibike-tripdata.csv.zip',\n",
       " 'https://s3.amazonaws.com/tripdata/201904-citibike-tripdata.csv.zip',\n",
       " 'https://s3.amazonaws.com/tripdata/201905-citibike-tripdata.csv.zip',\n",
       " 'https://s3.amazonaws.com/tripdata/201906-citibike-tripdata.csv.zip',\n",
       " 'https://s3.amazonaws.com/tripdata/201907-citibike-tripdata.csv.zip',\n",
       " 'https://s3.amazonaws.com/tripdata/201908-citibike-tripdata.csv.zip',\n",
       " 'https://s3.amazonaws.com/tripdata/201909-citibike-tripdata.csv.zip',\n",
       " 'https://s3.amazonaws.com/tripdata/201910-citibike-tripdata.csv.zip',\n",
       " 'https://s3.amazonaws.com/tripdata/201911-citibike-tripdata.csv.zip',\n",
       " 'https://s3.amazonaws.com/tripdata/201912-citibike-tripdata.csv.zip',\n",
       " 'https://s3.amazonaws.com/tripdata/202001-citibike-tripdata.csv.zip',\n",
       " 'https://s3.amazonaws.com/tripdata/202002-citibike-tripdata.csv.zip',\n",
       " 'https://s3.amazonaws.com/tripdata/202003-citibike-tripdata.csv.zip',\n",
       " 'https://s3.amazonaws.com/tripdata/202004-citibike-tripdata.csv.zip',\n",
       " 'https://s3.amazonaws.com/tripdata/202005-citibike-tripdata.csv.zip',\n",
       " 'https://s3.amazonaws.com/tripdata/202006-citibike-tripdata.csv.zip',\n",
       " 'https://s3.amazonaws.com/tripdata/202007-citibike-tripdata.csv.zip',\n",
       " 'https://s3.amazonaws.com/tripdata/202008-citibike-tripdata.csv.zip',\n",
       " 'https://s3.amazonaws.com/tripdata/202009-citibike-tripdata.csv.zip',\n",
       " 'https://s3.amazonaws.com/tripdata/202010-citibike-tripdata.csv.zip',\n",
       " 'https://s3.amazonaws.com/tripdata/202011-citibike-tripdata.csv.zip',\n",
       " 'https://s3.amazonaws.com/tripdata/202012-citibike-tripdata.csv.zip',\n",
       " 'https://s3.amazonaws.com/tripdata/202101-citibike-tripdata.csv.zip',\n",
       " 'https://s3.amazonaws.com/tripdata/202102-citibike-tripdata.csv.zip',\n",
       " 'https://s3.amazonaws.com/tripdata/202103-citibike-tripdata.csv.zip',\n",
       " 'https://s3.amazonaws.com/tripdata/202104-citibike-tripdata.csv.zip',\n",
       " 'https://s3.amazonaws.com/tripdata/202105-citibike-tripdata.csv.zip',\n",
       " 'https://s3.amazonaws.com/tripdata/202106-citibike-tripdata.csv.zip',\n",
       " 'https://s3.amazonaws.com/tripdata/202107-citibike-tripdata.csv.zip',\n",
       " 'https://s3.amazonaws.com/tripdata/202108-citibike-tripdata.csv.zip',\n",
       " 'https://s3.amazonaws.com/tripdata/202109-citibike-tripdata.csv.zip',\n",
       " 'https://s3.amazonaws.com/tripdata/202110-citibike-tripdata.csv.zip']"
      ]
     },
     "execution_count": 26,
     "metadata": {},
     "output_type": "execute_result"
    }
   ],
   "source": [
    "# Sense check output\n",
    "\n",
    "url_list"
   ]
  },
  {
   "cell_type": "code",
   "execution_count": 36,
   "id": "46f1f133",
   "metadata": {},
   "outputs": [
    {
     "name": "stderr",
     "output_type": "stream",
     "text": [
      "/Users/jeffreymarvel/opt/anaconda3/envs/citibike/lib/python3.8/site-packages/IPython/core/interactiveshell.py:3457: DtypeWarning: Columns (5,7) have mixed types.Specify dtype option on import or set low_memory=False.\n",
      "  exec(code_obj, self.user_global_ns, self.user_ns)\n",
      "/Users/jeffreymarvel/opt/anaconda3/envs/citibike/lib/python3.8/site-packages/IPython/core/interactiveshell.py:3457: DtypeWarning: Columns (7) have mixed types.Specify dtype option on import or set low_memory=False.\n",
      "  exec(code_obj, self.user_global_ns, self.user_ns)\n"
     ]
    }
   ],
   "source": [
    "# Open each URL, extract the CSV from the zip, and save the CSV file down\n",
    "# Takes ~20 minutes to run\n",
    "\n",
    "for url in url_list:\n",
    "    \n",
    "    # Open URL\n",
    "    resp = urlopen(url)\n",
    "    \n",
    "    # Extract the zip file\n",
    "    zipfile = ZipFile(BytesIO(resp.read()))\n",
    "    \n",
    "    # Save the CSV in the zip file to a dataframe\n",
    "    df = pd.read_csv(zipfile.open(zipfile.namelist()[0]), low_memory=False)\n",
    "    \n",
    "    # Store the dataframe results\n",
    "    df.to_csv(f\"./ridership_raw/{zipfile.namelist()[0]}\")"
   ]
  }
 ],
 "metadata": {
  "kernelspec": {
   "display_name": "citibike",
   "language": "python",
   "name": "citibike"
  },
  "language_info": {
   "codemirror_mode": {
    "name": "ipython",
    "version": 3
   },
   "file_extension": ".py",
   "mimetype": "text/x-python",
   "name": "python",
   "nbconvert_exporter": "python",
   "pygments_lexer": "ipython3",
   "version": "3.8.5"
  }
 },
 "nbformat": 4,
 "nbformat_minor": 5
}
