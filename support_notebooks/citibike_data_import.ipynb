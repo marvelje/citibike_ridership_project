{
 "cells": [
  {
   "cell_type": "code",
   "execution_count": 1,
   "metadata": {},
   "outputs": [],
   "source": [
    "import pandas as pd\n",
    "from datetime import datetime, timedelta\n",
    "# from geopy.geocoders import Nominatim"
   ]
  },
  {
   "cell_type": "code",
   "execution_count": 2,
   "metadata": {},
   "outputs": [],
   "source": [
    "# Define time threshold to ensure there are no rides under 60 seconds\n",
    "\n",
    "time_threshold = timedelta(seconds=60)"
   ]
  },
  {
   "cell_type": "code",
   "execution_count": 3,
   "metadata": {},
   "outputs": [],
   "source": [
    "# Define standard column names to be used throughout\n",
    "\n",
    "standard_cols = ['tripduration', 'starttime', 'stoptime', 'start station id', 'start station name', \n",
    "                 'start station latitude', 'start station longitude', 'end station id', 'end station name', \n",
    "                 'end station latitude', 'end station longitude', 'bikeid', 'usertype', 'birth year', 'gender']"
   ]
  },
  {
   "cell_type": "code",
   "execution_count": 4,
   "metadata": {},
   "outputs": [],
   "source": [
    "# Define preprocessing steps for starttime / stoptime column name\n",
    "\n",
    "def pre_process(df):\n",
    "    \n",
    "    '''\n",
    "    Processing a dataframe of individual ride data by performing the following steps:\n",
    "    - Converts start time to dataype datetime and set it as the index\n",
    "    - Group the data by 1D frequency, include start station id, latitude, longitude\n",
    "    - Aggregate data by count\n",
    "    - Rename \"count\" column \"ride_count\"\n",
    "    - Reset the index then move starttime back to the index (removes multi-index layers)\n",
    "    '''\n",
    "    \n",
    "    df['starttime'] = pd.to_datetime(df['starttime'])\n",
    "    \n",
    "    df = df.set_index('starttime')\n",
    "    \n",
    "    grouper = df.groupby([pd.Grouper(freq='1D'), 'start station id', 'start station latitude', 'start station longitude'])\n",
    "    \n",
    "    df_grouped = pd.DataFrame(grouper['start station id'].count())\n",
    "    \n",
    "    df_grouped = df_grouped.rename(columns={'start station id': 'ride_count'})\n",
    "    \n",
    "    df_grouped = df_grouped.reset_index().set_index('starttime')\n",
    "    \n",
    "    return df_grouped"
   ]
  },
  {
   "cell_type": "code",
   "execution_count": null,
   "metadata": {},
   "outputs": [],
   "source": [
    "# Define function for rounding the station ID\n",
    "\n",
    "def convert_station(station):\n",
    "    '''\n",
    "    Convert station ID to a round number\n",
    "    Leave non-numeric station IDs as they are\n",
    "    '''\n",
    "    try:\n",
    "        return round(float(station))\n",
    "    except ValueError:\n",
    "        return station"
   ]
  },
  {
   "cell_type": "code",
   "execution_count": 51,
   "metadata": {},
   "outputs": [],
   "source": [
    "# Define preprocessing steps for starttime / stoptime column name\n",
    "\n",
    "def pre_process_2021(df):\n",
    "    \n",
    "    '''\n",
    "    Same as other processing function except customized slightly given ride share data in \n",
    "    2021 has different column names\n",
    "    \n",
    "    Processing a dataframe of individual ride data by performing the following steps:\n",
    "    - Converts start time to dataype datetime and set it as the index\n",
    "    - Group the data by 1D frequency, include start station id, latitude, longitude\n",
    "    - Aggregate data by count\n",
    "    - Rename \"count\" column \"ride_count\"\n",
    "    - Reset the index then move starttime back to the index (removes multi-index layers)\n",
    "    - Renaming rest of columns to match previous version\n",
    "    '''\n",
    "    \n",
    "    df['starttime'] = pd.to_datetime(df['started_at'])\n",
    "    \n",
    "    df = df.set_index('starttime')\n",
    "    \n",
    "    grouper = df.groupby([pd.Grouper(freq='1D'), 'start_station_id', 'start_lat', 'start_lng'])\n",
    "    \n",
    "    df_grouped = pd.DataFrame(grouper['start_station_id'].count())\n",
    "    \n",
    "    df_grouped = df_grouped.rename(columns={'start_station_id': 'ride_count'})\n",
    "    \n",
    "    df_grouped = df_grouped.reset_index().set_index('starttime')\n",
    "    \n",
    "    df_grouped['start_station_id'] = df_grouped['start_station_id'].apply(lambda x: convert_station(x))\n",
    "    \n",
    "    df_grouped.rename(columns={'start_station_id': 'start station id', \n",
    "                             'start_lat': 'start station latitude', \n",
    "                             'start_lng': 'start station longitude'}, inplace=True)\n",
    "    \n",
    "    return df_grouped"
   ]
  },
  {
   "cell_type": "code",
   "execution_count": 47,
   "metadata": {},
   "outputs": [],
   "source": [
    "def convert_station(station):\n",
    "    '''\n",
    "    Convert station ID to a round number\n",
    "    Leave non-numeric station IDs as they are\n",
    "    '''\n",
    "    try:\n",
    "        return round(float(station))\n",
    "    except ValueError:\n",
    "        return station"
   ]
  },
  {
   "cell_type": "code",
   "execution_count": null,
   "metadata": {},
   "outputs": [],
   "source": [
    "# Test month from Feb 2021"
   ]
  },
  {
   "cell_type": "markdown",
   "metadata": {},
   "source": [
    "### Read in data in six steps:\n",
    "- June 2013 standalone\n",
    "- July 2013 through August 2014\n",
    "- Sept 2014 through Sept 2016\n",
    "- Oct 2016 through March 2017 (pass in different column names)\n",
    "- April 2017 through Jan 2021\n",
    "- Feb 2021 through Oct 2021"
   ]
  },
  {
   "cell_type": "code",
   "execution_count": 5,
   "metadata": {},
   "outputs": [],
   "source": [
    "# Read in June 2013\n",
    "\n",
    "df_201306 = pd.read_csv('./ridership_raw/201306-citibike-tripdata.csv')"
   ]
  },
  {
   "cell_type": "code",
   "execution_count": 6,
   "metadata": {},
   "outputs": [],
   "source": [
    "# Preprocess June 2013 dataset\n",
    "\n",
    "df_201306 = pre_process(df_201306)\n",
    "\n",
    "df_201306.to_csv('./processed/201306.csv')"
   ]
  },
  {
   "cell_type": "code",
   "execution_count": 7,
   "metadata": {},
   "outputs": [],
   "source": [
    "# Read in July 2013 through August 2014\n",
    "\n",
    "# df_list1 = []\n",
    "\n",
    "month = 7\n",
    "year = 2013\n",
    "\n",
    "for i in range(14):\n",
    "    \n",
    "    if month > 12:\n",
    "        month = 1\n",
    "        year = 2014\n",
    "    \n",
    "    if month >= 10:\n",
    "        df = pd.read_csv(f\"./ridership_raw/{year}-{month} - Citi Bike trip data.csv\")\n",
    "        df = pre_process(df)\n",
    "        df.to_csv(f\"./processed/{year}{month}.csv\")\n",
    "    else:\n",
    "        df = pd.read_csv(f\"./ridership_raw/{year}-0{month} - Citi Bike trip data.csv\")\n",
    "        df = pre_process(df)\n",
    "        df.to_csv(f\"./processed/{year}0{month}.csv\")\n",
    "    \n",
    "    month += 1"
   ]
  },
  {
   "cell_type": "code",
   "execution_count": 8,
   "metadata": {},
   "outputs": [],
   "source": [
    "# Read in Sept 2014 through Sept 2016\n",
    "\n",
    "# df_list2 = []\n",
    "\n",
    "month = 9\n",
    "year = 2014\n",
    "\n",
    "for i in range(25):\n",
    "    \n",
    "    if month > 12:\n",
    "        month = 1\n",
    "        year += 1\n",
    "    \n",
    "    if month >= 10:\n",
    "        df = pd.read_csv(f\"./ridership_raw/{year}{month}-citibike-tripdata.csv\")\n",
    "        df = pre_process(df)\n",
    "        df.to_csv(f\"./processed/{year}{month}.csv\")\n",
    "    else:\n",
    "        df = pd.read_csv(f\"./ridership_raw/{year}0{month}-citibike-tripdata.csv\")\n",
    "        df = pre_process(df)\n",
    "        df.to_csv(f\"./processed/{year}0{month}.csv\")\n",
    "    month += 1"
   ]
  },
  {
   "cell_type": "code",
   "execution_count": 9,
   "metadata": {},
   "outputs": [
    {
     "name": "stdout",
     "output_type": "stream",
     "text": [
      "<class 'pandas.core.frame.DataFrame'>\n",
      "RangeIndex: 9748 entries, 0 to 9747\n",
      "Data columns (total 5 columns):\n",
      " #   Column                   Non-Null Count  Dtype  \n",
      "---  ------                   --------------  -----  \n",
      " 0   starttime                9748 non-null   object \n",
      " 1   start station id         9748 non-null   int64  \n",
      " 2   start station latitude   9748 non-null   float64\n",
      " 3   start station longitude  9748 non-null   float64\n",
      " 4   ride_count               9748 non-null   int64  \n",
      "dtypes: float64(2), int64(2), object(1)\n",
      "memory usage: 380.9+ KB\n"
     ]
    }
   ],
   "source": [
    "# Read in one of the files to make sure it's exported correctly\n",
    "\n",
    "test = pd.read_csv('./processed/201409.csv')\n",
    "\n",
    "test.info()"
   ]
  },
  {
   "cell_type": "code",
   "execution_count": 10,
   "metadata": {},
   "outputs": [],
   "source": [
    "# Read in Oct 2016 through March 2017 with different column names\n",
    "\n",
    "# df_list3 = []\n",
    "\n",
    "month = 10\n",
    "year = 2016\n",
    "\n",
    "for i in range(6):\n",
    "    \n",
    "    if month > 12:\n",
    "        month = 1\n",
    "        year += 1\n",
    "    \n",
    "    if month >= 10:\n",
    "        df = pd.read_csv(f\"./ridership_raw/{year}{month}-citibike-tripdata.csv\", names=standard_cols, skiprows=1)\n",
    "        df = pre_process(df)\n",
    "        df.to_csv(f\"./processed/{year}{month}.csv\")\n",
    "\n",
    "    else:\n",
    "        df = pd.read_csv(f\"./ridership_raw/{year}0{month}-citibike-tripdata.csv\", names=standard_cols, skiprows=1)\n",
    "        df = pre_process(df)\n",
    "        df.to_csv(f\"./processed/{year}0{month}.csv\")\n",
    "    \n",
    "    month += 1"
   ]
  },
  {
   "cell_type": "code",
   "execution_count": 11,
   "metadata": {},
   "outputs": [],
   "source": [
    "# Read in April 2017 through Jan 2021\n",
    "\n",
    "# df_list4 = []\n",
    "\n",
    "month = 4\n",
    "year = 2017\n",
    "\n",
    "for i in range(46):\n",
    "    \n",
    "    if month > 12:\n",
    "        month = 1\n",
    "        year += 1\n",
    "    \n",
    "    if month >= 10:\n",
    "        df = pd.read_csv(f\"./ridership_raw/{year}{month}-citibike-tripdata.csv\")\n",
    "        df = pre_process(df)\n",
    "        df.to_csv(f\"./processed/{year}{month}.csv\")\n",
    "    else:\n",
    "        df = pd.read_csv(f\"./ridership_raw/{year}0{month}-citibike-tripdata.csv\")\n",
    "        df = pre_process(df)\n",
    "        df.to_csv(f\"./processed/{year}0{month}.csv\")\n",
    "    \n",
    "    month += 1"
   ]
  },
  {
   "cell_type": "code",
   "execution_count": 56,
   "metadata": {},
   "outputs": [],
   "source": [
    "# Read in remainder through Oct 2021\n",
    "\n",
    "# df_list5 = []\n",
    "\n",
    "month = 2\n",
    "year = 2021\n",
    "\n",
    "for i in range(9):\n",
    "    \n",
    "    if month > 12:\n",
    "        month = 1\n",
    "        year += 1\n",
    "    \n",
    "    if month >= 10:\n",
    "        df = pd.read_csv(f\"./ridership_raw/{year}{month}-citibike-tripdata.csv\", low_memory=False)\n",
    "        df = pre_process_2021(df)\n",
    "        df.to_csv(f\"./processed/{year}{month}.csv\")\n",
    "    else:\n",
    "        df = pd.read_csv(f\"./ridership_raw/{year}0{month}-citibike-tripdata.csv\", low_memory=False)\n",
    "        df = pre_process_2021(df)\n",
    "        df.to_csv(f\"./processed/{year}0{month}.csv\")\n",
    "    \n",
    "    month += 1"
   ]
  }
 ],
 "metadata": {
  "kernelspec": {
   "display_name": "Python (learn-env)",
   "language": "python",
   "name": "learn-env"
  },
  "language_info": {
   "codemirror_mode": {
    "name": "ipython",
    "version": 3
   },
   "file_extension": ".py",
   "mimetype": "text/x-python",
   "name": "python",
   "nbconvert_exporter": "python",
   "pygments_lexer": "ipython3",
   "version": "3.8.5"
  }
 },
 "nbformat": 4,
 "nbformat_minor": 4
}
