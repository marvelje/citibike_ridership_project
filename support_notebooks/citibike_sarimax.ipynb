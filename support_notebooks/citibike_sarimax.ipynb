{
 "cells": [
  {
   "cell_type": "markdown",
   "id": "bd201d79",
   "metadata": {},
   "source": [
    "# Citibike Modeling: Incorporate Exogenous Variables\n",
    "\n",
    "This script will incorporate the NYC recovery index in an attempt to appropriately control for the COVID-19 pandemic's effect on ridership."
   ]
  },
  {
   "cell_type": "code",
   "execution_count": 1,
   "id": "aa62113c",
   "metadata": {},
   "outputs": [],
   "source": [
    "# Standard imports\n",
    "\n",
    "import pandas as pd\n",
    "import numpy as np\n",
    "import matplotlib.pyplot as plt\n",
    "import matplotlib\n",
    "import geopandas as gpd\n",
    "from scipy.fft import fft, fftfreq, fftshift\n",
    "import scipy\n",
    "import itertools\n",
    "from ast import literal_eval\n",
    "\n",
    "# Set style\n",
    "plt.style.use('seaborn')"
   ]
  },
  {
   "cell_type": "code",
   "execution_count": 2,
   "id": "9e0230e6",
   "metadata": {},
   "outputs": [],
   "source": [
    "# Import util file\n",
    "\n",
    "from util import dickey_fuller, process_neighborhood, report_metrics, plot_results"
   ]
  },
  {
   "cell_type": "code",
   "execution_count": 3,
   "id": "515a8d2a",
   "metadata": {},
   "outputs": [],
   "source": [
    "# Modeling\n",
    "\n",
    "from statsmodels.tsa.stattools import adfuller\n",
    "from statsmodels.tsa.statespace.sarimax import SARIMAX\n",
    "import statsmodels.graphics.tsaplots as tsa\n",
    "\n",
    "from pmdarima.utils import decomposed_plot\n",
    "from pmdarima.arima import decompose\n",
    "\n",
    "from sklearn import metrics"
   ]
  },
  {
   "cell_type": "markdown",
   "id": "e46a6e2d",
   "metadata": {},
   "source": [
    "#### Ridership Data Import and Prep"
   ]
  },
  {
   "cell_type": "code",
   "execution_count": 5,
   "id": "a413c6a4",
   "metadata": {},
   "outputs": [],
   "source": [
    "# Import clean dataset\n",
    "\n",
    "df_citibike = pd.read_csv('./../clean_data/final_clean_ridership.csv', low_memory=False)"
   ]
  },
  {
   "cell_type": "code",
   "execution_count": 6,
   "id": "50cd4daa",
   "metadata": {},
   "outputs": [],
   "source": [
    "# Convert starttime to date and set as index\n",
    "\n",
    "df_citibike['starttime'] = pd.to_datetime(df_citibike['starttime'])\n",
    "\n",
    "df_citibike.set_index('starttime', inplace=True)"
   ]
  },
  {
   "cell_type": "code",
   "execution_count": 7,
   "id": "acf1d35b",
   "metadata": {},
   "outputs": [],
   "source": [
    "# Create the daily file\n",
    "\n",
    "daily_ridership = df_citibike[['ride_count']].resample('1D').sum()\n",
    "\n",
    "# Backfill dates with 0 rides (logic for this change in EDA notebook)\n",
    "daily_ridership['ride_count'] = daily_ridership['ride_count'].replace(to_replace=0, method='bfill')"
   ]
  },
  {
   "cell_type": "code",
   "execution_count": 8,
   "id": "0893fc5f",
   "metadata": {},
   "outputs": [],
   "source": [
    "# Define Train / Test split time\n",
    "\n",
    "test_start = '2020-11-01'"
   ]
  },
  {
   "cell_type": "code",
   "execution_count": 12,
   "id": "ccf69e4d",
   "metadata": {},
   "outputs": [],
   "source": [
    "# Resample to weekly\n",
    "\n",
    "weekly_ridership = daily_ridership.resample('W-SUN').sum()\n",
    "\n",
    "# Log transform ridership\n",
    "weekly_ridership['ride_count_log'] = weekly_ridership['ride_count'].apply(lambda x: np.log(x))"
   ]
  },
  {
   "cell_type": "code",
   "execution_count": 14,
   "id": "33278d90",
   "metadata": {},
   "outputs": [],
   "source": [
    "# Create future time stamp\n",
    "\n",
    "weekly_ridership['future'] = (weekly_ridership.index >= test_start).astype('int')\n",
    "\n",
    "\n",
    "# Create train test splits\n",
    "\n",
    "train_weekly = weekly_ridership[weekly_ridership['future'] == 0]['ride_count_log']\n",
    "test_weekly = weekly_ridership[weekly_ridership['future'] == 1]['ride_count_log']"
   ]
  },
  {
   "cell_type": "markdown",
   "id": "a3024980",
   "metadata": {},
   "source": [
    "#### COVID data import and prep"
   ]
  },
  {
   "cell_type": "code",
   "execution_count": 15,
   "id": "acd21a04",
   "metadata": {},
   "outputs": [],
   "source": [
    "# Read in the COVID data\n",
    "\n",
    "covid_df = pd.read_csv('./../covid_data/data-uIenF.csv')"
   ]
  },
  {
   "cell_type": "code",
   "execution_count": 16,
   "id": "ccf3389a",
   "metadata": {},
   "outputs": [],
   "source": [
    "# Convert the axis to datetime and create a \"overall_index\" column\n",
    "\n",
    "covid_df['Date'] = pd.to_datetime(covid_df['Date'])\n",
    "\n",
    "covid_df.set_index('Date', inplace=True)\n",
    "\n",
    "covid_df['overall_index'] = covid_df.sum(axis=1)"
   ]
  },
  {
   "cell_type": "code",
   "execution_count": 17,
   "id": "f5ad7f51",
   "metadata": {},
   "outputs": [
    {
     "data": {
      "text/html": [
       "<div>\n",
       "<style scoped>\n",
       "    .dataframe tbody tr th:only-of-type {\n",
       "        vertical-align: middle;\n",
       "    }\n",
       "\n",
       "    .dataframe tbody tr th {\n",
       "        vertical-align: top;\n",
       "    }\n",
       "\n",
       "    .dataframe thead th {\n",
       "        text-align: right;\n",
       "    }\n",
       "</style>\n",
       "<table border=\"1\" class=\"dataframe\">\n",
       "  <thead>\n",
       "    <tr style=\"text-align: right;\">\n",
       "      <th></th>\n",
       "      <th>Covid-19 Hospitalizations Index</th>\n",
       "      <th>Unemployment Claims Index</th>\n",
       "      <th>Home Sales Index</th>\n",
       "      <th>Rental Inventory Index</th>\n",
       "      <th>Subway Mobility Index</th>\n",
       "      <th>Restaurant Reservations Index</th>\n",
       "      <th>overall_index</th>\n",
       "    </tr>\n",
       "    <tr>\n",
       "      <th>Date</th>\n",
       "      <th></th>\n",
       "      <th></th>\n",
       "      <th></th>\n",
       "      <th></th>\n",
       "      <th></th>\n",
       "      <th></th>\n",
       "      <th></th>\n",
       "    </tr>\n",
       "  </thead>\n",
       "  <tbody>\n",
       "    <tr>\n",
       "      <th>2020-01-04</th>\n",
       "      <td>16.7</td>\n",
       "      <td>16.8</td>\n",
       "      <td>14.6</td>\n",
       "      <td>16.1</td>\n",
       "      <td>15.8</td>\n",
       "      <td>16.7</td>\n",
       "      <td>96.7</td>\n",
       "    </tr>\n",
       "    <tr>\n",
       "      <th>2020-01-11</th>\n",
       "      <td>16.7</td>\n",
       "      <td>15.5</td>\n",
       "      <td>19.4</td>\n",
       "      <td>16.1</td>\n",
       "      <td>16.9</td>\n",
       "      <td>16.7</td>\n",
       "      <td>101.3</td>\n",
       "    </tr>\n",
       "    <tr>\n",
       "      <th>2020-01-18</th>\n",
       "      <td>16.7</td>\n",
       "      <td>15.5</td>\n",
       "      <td>19.0</td>\n",
       "      <td>16.2</td>\n",
       "      <td>16.7</td>\n",
       "      <td>16.7</td>\n",
       "      <td>100.8</td>\n",
       "    </tr>\n",
       "    <tr>\n",
       "      <th>2020-01-25</th>\n",
       "      <td>16.7</td>\n",
       "      <td>16.2</td>\n",
       "      <td>17.9</td>\n",
       "      <td>16.6</td>\n",
       "      <td>17.3</td>\n",
       "      <td>16.7</td>\n",
       "      <td>101.4</td>\n",
       "    </tr>\n",
       "    <tr>\n",
       "      <th>2020-02-01</th>\n",
       "      <td>16.7</td>\n",
       "      <td>18.4</td>\n",
       "      <td>18.2</td>\n",
       "      <td>16.3</td>\n",
       "      <td>17.2</td>\n",
       "      <td>16.7</td>\n",
       "      <td>103.5</td>\n",
       "    </tr>\n",
       "  </tbody>\n",
       "</table>\n",
       "</div>"
      ],
      "text/plain": [
       "            Covid-19 Hospitalizations Index  Unemployment Claims Index  \\\n",
       "Date                                                                     \n",
       "2020-01-04                             16.7                       16.8   \n",
       "2020-01-11                             16.7                       15.5   \n",
       "2020-01-18                             16.7                       15.5   \n",
       "2020-01-25                             16.7                       16.2   \n",
       "2020-02-01                             16.7                       18.4   \n",
       "\n",
       "            Home Sales Index  Rental Inventory Index  Subway Mobility Index  \\\n",
       "Date                                                                          \n",
       "2020-01-04              14.6                    16.1                   15.8   \n",
       "2020-01-11              19.4                    16.1                   16.9   \n",
       "2020-01-18              19.0                    16.2                   16.7   \n",
       "2020-01-25              17.9                    16.6                   17.3   \n",
       "2020-02-01              18.2                    16.3                   17.2   \n",
       "\n",
       "            Restaurant Reservations Index  overall_index  \n",
       "Date                                                      \n",
       "2020-01-04                           16.7           96.7  \n",
       "2020-01-11                           16.7          101.3  \n",
       "2020-01-18                           16.7          100.8  \n",
       "2020-01-25                           16.7          101.4  \n",
       "2020-02-01                           16.7          103.5  "
      ]
     },
     "execution_count": 17,
     "metadata": {},
     "output_type": "execute_result"
    }
   ],
   "source": [
    "covid_df.head()"
   ]
  },
  {
   "cell_type": "code",
   "execution_count": null,
   "id": "b63ab361",
   "metadata": {},
   "outputs": [],
   "source": []
  }
 ],
 "metadata": {
  "kernelspec": {
   "display_name": "citibike",
   "language": "python",
   "name": "citibike"
  },
  "language_info": {
   "codemirror_mode": {
    "name": "ipython",
    "version": 3
   },
   "file_extension": ".py",
   "mimetype": "text/x-python",
   "name": "python",
   "nbconvert_exporter": "python",
   "pygments_lexer": "ipython3",
   "version": "3.8.5"
  }
 },
 "nbformat": 4,
 "nbformat_minor": 5
}
