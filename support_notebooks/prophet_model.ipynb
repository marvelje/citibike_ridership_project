{
 "cells": [
  {
   "cell_type": "markdown",
   "id": "4c132377",
   "metadata": {},
   "source": [
    "# FB Prophet Modeling\n",
    "\n",
    "This notebook attempts to recreate overall model using FB Prophet time series toolkit"
   ]
  },
  {
   "cell_type": "code",
   "execution_count": 18,
   "id": "34a0d632",
   "metadata": {},
   "outputs": [],
   "source": [
    "# Standard import. Having environment issues with Plotly\n",
    "\n",
    "import pandas as pd\n",
    "import numpy as np\n",
    "from prophet import Prophet\n",
    "import numpy as np\n",
    "import matplotlib.pyplot as plt\n",
    "from sklearn import metrics\n",
    "import matplotlib"
   ]
  },
  {
   "cell_type": "code",
   "execution_count": 4,
   "id": "c40c00af",
   "metadata": {},
   "outputs": [],
   "source": [
    "# Import util file\n",
    "\n",
    "from util import dickey_fuller, process_neighborhood, report_metrics, plot_results"
   ]
  },
  {
   "cell_type": "code",
   "execution_count": 7,
   "id": "f69c77d8",
   "metadata": {},
   "outputs": [],
   "source": [
    "# Import clean dataset\n",
    "\n",
    "df_citibike = pd.read_csv('./../clean_data/final_clean_ridership.csv', low_memory=False)"
   ]
  },
  {
   "cell_type": "code",
   "execution_count": 8,
   "id": "e8bc9455",
   "metadata": {},
   "outputs": [],
   "source": [
    "# Convert starttime to date and set as index\n",
    "\n",
    "df_citibike['starttime'] = pd.to_datetime(df_citibike['starttime'])\n",
    "\n",
    "df_citibike.set_index('starttime', inplace=True)"
   ]
  },
  {
   "cell_type": "code",
   "execution_count": 9,
   "id": "71c427f3",
   "metadata": {},
   "outputs": [],
   "source": [
    "# Create the daily file\n",
    "\n",
    "daily_ridership = df_citibike[['ride_count']].resample('1D').sum()\n",
    "\n",
    "# Backfill dates with 0 rides (logic for this change in EDA notebook)\n",
    "daily_ridership['ride_count'] = daily_ridership['ride_count'].replace(to_replace=0, method='bfill')"
   ]
  },
  {
   "cell_type": "code",
   "execution_count": 10,
   "id": "332cec0f",
   "metadata": {},
   "outputs": [],
   "source": [
    "# Define Train / Test split time\n",
    "\n",
    "test_start = '2020-11-01'"
   ]
  },
  {
   "cell_type": "code",
   "execution_count": 15,
   "id": "bbc47def",
   "metadata": {},
   "outputs": [],
   "source": [
    "# Convert daily to weekly for modeling\n",
    "\n",
    "weekly_ridership = daily_ridership.resample('W-SUN').sum()\n",
    "\n",
    "weekly_ridership['future'] = (weekly_ridership.index >= test_start).astype('int')\n",
    "\n",
    "# Log transform ridership\n",
    "\n",
    "weekly_ridership['ride_count_log'] = weekly_ridership['ride_count'].apply(lambda x: np.log(x))"
   ]
  },
  {
   "cell_type": "code",
   "execution_count": 16,
   "id": "9ee429b5",
   "metadata": {},
   "outputs": [],
   "source": [
    "# Create train test splits\n",
    "\n",
    "train_weekly = weekly_ridership[weekly_ridership['future'] == 0]['ride_count_log']\n",
    "test_weekly = weekly_ridership[weekly_ridership['future'] == 1]['ride_count_log']"
   ]
  },
  {
   "cell_type": "code",
   "execution_count": 44,
   "id": "8adfa6b2",
   "metadata": {},
   "outputs": [],
   "source": [
    "# Instantiate a Prophet object\n",
    "\n",
    "m = Prophet(weekly_seasonality=True)"
   ]
  },
  {
   "cell_type": "code",
   "execution_count": 35,
   "id": "d6b39c2b",
   "metadata": {},
   "outputs": [],
   "source": [
    "# Create DataFrame of the training data with columns needed for Prophet\n",
    "\n",
    "train_df = train_weekly.to_frame().reset_index()\n",
    "\n",
    "train_df.rename(columns={'starttime': 'ds', 'ride_count_log': 'y'}, inplace=True)\n",
    "\n",
    "# Repeat for test\n",
    "\n",
    "test_df = train_weekly.to_frame().reset_index()\n",
    "\n",
    "test_df.rename(columns={'starttime': 'ds', 'ride_count_log': 'y'}, inplace=True)"
   ]
  },
  {
   "cell_type": "code",
   "execution_count": 36,
   "id": "f912bd34",
   "metadata": {},
   "outputs": [
    {
     "data": {
      "text/html": [
       "<div>\n",
       "<style scoped>\n",
       "    .dataframe tbody tr th:only-of-type {\n",
       "        vertical-align: middle;\n",
       "    }\n",
       "\n",
       "    .dataframe tbody tr th {\n",
       "        vertical-align: top;\n",
       "    }\n",
       "\n",
       "    .dataframe thead th {\n",
       "        text-align: right;\n",
       "    }\n",
       "</style>\n",
       "<table border=\"1\" class=\"dataframe\">\n",
       "  <thead>\n",
       "    <tr style=\"text-align: right;\">\n",
       "      <th></th>\n",
       "      <th>ds</th>\n",
       "      <th>y</th>\n",
       "    </tr>\n",
       "  </thead>\n",
       "  <tbody>\n",
       "    <tr>\n",
       "      <th>0</th>\n",
       "      <td>2013-06-02</td>\n",
       "      <td>10.114275</td>\n",
       "    </tr>\n",
       "    <tr>\n",
       "      <th>1</th>\n",
       "      <td>2013-06-09</td>\n",
       "      <td>11.426899</td>\n",
       "    </tr>\n",
       "    <tr>\n",
       "      <th>2</th>\n",
       "      <td>2013-06-16</td>\n",
       "      <td>11.546264</td>\n",
       "    </tr>\n",
       "    <tr>\n",
       "      <th>3</th>\n",
       "      <td>2013-06-23</td>\n",
       "      <td>12.040437</td>\n",
       "    </tr>\n",
       "    <tr>\n",
       "      <th>4</th>\n",
       "      <td>2013-06-30</td>\n",
       "      <td>12.146275</td>\n",
       "    </tr>\n",
       "  </tbody>\n",
       "</table>\n",
       "</div>"
      ],
      "text/plain": [
       "          ds          y\n",
       "0 2013-06-02  10.114275\n",
       "1 2013-06-09  11.426899\n",
       "2 2013-06-16  11.546264\n",
       "3 2013-06-23  12.040437\n",
       "4 2013-06-30  12.146275"
      ]
     },
     "execution_count": 36,
     "metadata": {},
     "output_type": "execute_result"
    }
   ],
   "source": [
    "# Sense check output\n",
    "\n",
    "train_df.head()"
   ]
  },
  {
   "cell_type": "code",
   "execution_count": 45,
   "id": "d9f0e628",
   "metadata": {},
   "outputs": [
    {
     "name": "stderr",
     "output_type": "stream",
     "text": [
      "INFO:prophet:Disabling daily seasonality. Run prophet with daily_seasonality=True to override this.\n"
     ]
    },
    {
     "name": "stdout",
     "output_type": "stream",
     "text": [
      "Initial log joint probability = -3.1342\n"
     ]
    },
    {
     "data": {
      "text/plain": [
       "<prophet.forecaster.Prophet at 0x7f8ea9825d90>"
      ]
     },
     "execution_count": 45,
     "metadata": {},
     "output_type": "execute_result"
    },
    {
     "name": "stdout",
     "output_type": "stream",
     "text": [
      "    Iter      log prob        ||dx||      ||grad||       alpha      alpha0  # evals  Notes \n",
      "      99       1346.39    0.00030886       125.057     0.05639           1      133   \n",
      "    Iter      log prob        ||dx||      ||grad||       alpha      alpha0  # evals  Notes \n",
      "     100       1346.39   3.16868e-05       110.284   2.534e-07       0.001      168  LS failed, Hessian reset \n",
      "     199       1347.78     0.0012106       84.6678        1.43           1      299   \n",
      "    Iter      log prob        ||dx||      ||grad||       alpha      alpha0  # evals  Notes \n",
      "     299        1348.9    0.00068587       99.3731      0.4013      0.6274      429   \n",
      "    Iter      log prob        ||dx||      ||grad||       alpha      alpha0  # evals  Notes \n",
      "     399       1349.47   4.25266e-06       68.6651      0.2351      0.2351      559   \n",
      "    Iter      log prob        ||dx||      ||grad||       alpha      alpha0  # evals  Notes \n",
      "     427       1349.48   0.000117295       192.466   1.254e-06       0.001      635  LS failed, Hessian reset \n",
      "     486       1349.54   2.16773e-05       75.8524   3.266e-07       0.001      753  LS failed, Hessian reset \n",
      "     499       1349.54   8.68971e-07       59.4061      0.5633      0.5633      770   \n",
      "    Iter      log prob        ||dx||      ||grad||       alpha      alpha0  # evals  Notes \n",
      "     584       1349.69   0.000337425       173.478   3.383e-06       0.001      916  LS failed, Hessian reset \n",
      "     599       1349.83   1.63318e-05       58.3847      0.5318      0.5318      936   \n",
      "    Iter      log prob        ||dx||      ||grad||       alpha      alpha0  # evals  Notes \n",
      "     651       1349.91   1.38123e-05       74.8561    1.71e-07       0.001     1056  LS failed, Hessian reset \n",
      "     693       1349.93   1.90549e-08       44.3752     0.01458      0.4494     1118   \n",
      "Optimization terminated normally: \n",
      "  Convergence detected: relative gradient magnitude is below tolerance\n"
     ]
    }
   ],
   "source": [
    "# Fit on the training data\n",
    "\n",
    "m.fit(train_df)"
   ]
  },
  {
   "cell_type": "code",
   "execution_count": 51,
   "id": "4a6e019a",
   "metadata": {},
   "outputs": [
    {
     "data": {
      "text/html": [
       "<div>\n",
       "<style scoped>\n",
       "    .dataframe tbody tr th:only-of-type {\n",
       "        vertical-align: middle;\n",
       "    }\n",
       "\n",
       "    .dataframe tbody tr th {\n",
       "        vertical-align: top;\n",
       "    }\n",
       "\n",
       "    .dataframe thead th {\n",
       "        text-align: right;\n",
       "    }\n",
       "</style>\n",
       "<table border=\"1\" class=\"dataframe\">\n",
       "  <thead>\n",
       "    <tr style=\"text-align: right;\">\n",
       "      <th></th>\n",
       "      <th>ds</th>\n",
       "    </tr>\n",
       "  </thead>\n",
       "  <tbody>\n",
       "    <tr>\n",
       "      <th>434</th>\n",
       "      <td>2021-09-26</td>\n",
       "    </tr>\n",
       "    <tr>\n",
       "      <th>435</th>\n",
       "      <td>2021-10-03</td>\n",
       "    </tr>\n",
       "    <tr>\n",
       "      <th>436</th>\n",
       "      <td>2021-10-10</td>\n",
       "    </tr>\n",
       "    <tr>\n",
       "      <th>437</th>\n",
       "      <td>2021-10-17</td>\n",
       "    </tr>\n",
       "    <tr>\n",
       "      <th>438</th>\n",
       "      <td>2021-10-24</td>\n",
       "    </tr>\n",
       "  </tbody>\n",
       "</table>\n",
       "</div>"
      ],
      "text/plain": [
       "            ds\n",
       "434 2021-09-26\n",
       "435 2021-10-03\n",
       "436 2021-10-10\n",
       "437 2021-10-17\n",
       "438 2021-10-24"
      ]
     },
     "execution_count": 51,
     "metadata": {},
     "output_type": "execute_result"
    }
   ],
   "source": [
    "# Create \"future\" df\n",
    "\n",
    "future = m.make_future_dataframe(freq='W', periods=52)\n",
    "future.tail()"
   ]
  },
  {
   "cell_type": "code",
   "execution_count": 52,
   "id": "dd877944",
   "metadata": {},
   "outputs": [
    {
     "data": {
      "text/html": [
       "<div>\n",
       "<style scoped>\n",
       "    .dataframe tbody tr th:only-of-type {\n",
       "        vertical-align: middle;\n",
       "    }\n",
       "\n",
       "    .dataframe tbody tr th {\n",
       "        vertical-align: top;\n",
       "    }\n",
       "\n",
       "    .dataframe thead th {\n",
       "        text-align: right;\n",
       "    }\n",
       "</style>\n",
       "<table border=\"1\" class=\"dataframe\">\n",
       "  <thead>\n",
       "    <tr style=\"text-align: right;\">\n",
       "      <th></th>\n",
       "      <th>ds</th>\n",
       "      <th>yhat</th>\n",
       "      <th>yhat_lower</th>\n",
       "      <th>yhat_upper</th>\n",
       "    </tr>\n",
       "  </thead>\n",
       "  <tbody>\n",
       "    <tr>\n",
       "      <th>434</th>\n",
       "      <td>2021-09-26</td>\n",
       "      <td>13.142649</td>\n",
       "      <td>12.825271</td>\n",
       "      <td>13.472343</td>\n",
       "    </tr>\n",
       "    <tr>\n",
       "      <th>435</th>\n",
       "      <td>2021-10-03</td>\n",
       "      <td>13.109958</td>\n",
       "      <td>12.796459</td>\n",
       "      <td>13.444420</td>\n",
       "    </tr>\n",
       "    <tr>\n",
       "      <th>436</th>\n",
       "      <td>2021-10-10</td>\n",
       "      <td>13.037553</td>\n",
       "      <td>12.727549</td>\n",
       "      <td>13.332938</td>\n",
       "    </tr>\n",
       "    <tr>\n",
       "      <th>437</th>\n",
       "      <td>2021-10-17</td>\n",
       "      <td>12.980473</td>\n",
       "      <td>12.636956</td>\n",
       "      <td>13.293694</td>\n",
       "    </tr>\n",
       "    <tr>\n",
       "      <th>438</th>\n",
       "      <td>2021-10-24</td>\n",
       "      <td>12.970031</td>\n",
       "      <td>12.679195</td>\n",
       "      <td>13.281274</td>\n",
       "    </tr>\n",
       "  </tbody>\n",
       "</table>\n",
       "</div>"
      ],
      "text/plain": [
       "            ds       yhat  yhat_lower  yhat_upper\n",
       "434 2021-09-26  13.142649   12.825271   13.472343\n",
       "435 2021-10-03  13.109958   12.796459   13.444420\n",
       "436 2021-10-10  13.037553   12.727549   13.332938\n",
       "437 2021-10-17  12.980473   12.636956   13.293694\n",
       "438 2021-10-24  12.970031   12.679195   13.281274"
      ]
     },
     "execution_count": 52,
     "metadata": {},
     "output_type": "execute_result"
    }
   ],
   "source": [
    "# Store forecast in the new dataframe\n",
    "\n",
    "forecast = m.predict(future)\n",
    "forecast[['ds', 'yhat', 'yhat_lower', 'yhat_upper']].tail()"
   ]
  },
  {
   "cell_type": "code",
   "execution_count": 61,
   "id": "e9092ed5",
   "metadata": {},
   "outputs": [
    {
     "name": "stderr",
     "output_type": "stream",
     "text": [
      "/var/folders/0y/g8b3nrn51z3gwxmmtf05r68r0000gn/T/ipykernel_81926/1283687508.py:3: SettingWithCopyWarning: \n",
      "A value is trying to be set on a copy of a slice from a DataFrame.\n",
      "Try using .loc[row_indexer,col_indexer] = value instead\n",
      "\n",
      "See the caveats in the documentation: https://pandas.pydata.org/pandas-docs/stable/user_guide/indexing.html#returning-a-view-versus-a-copy\n",
      "  preds['ds'] = pd.to_datetime(forecast['ds'])\n"
     ]
    }
   ],
   "source": [
    "preds = forecast[['ds', 'yhat']]\n",
    "\n",
    "preds['ds'] = pd.to_datetime(forecast['ds'])\n",
    "\n",
    "preds.set_index('ds', inplace=True)\n",
    "\n",
    "preds = preds[preds.index > '10/31/2020']"
   ]
  },
  {
   "cell_type": "code",
   "execution_count": 62,
   "id": "c5cc0887",
   "metadata": {},
   "outputs": [
    {
     "data": {
      "image/png": "[encoded data removed]",
      "text/plain": [
       "<Figure size 720x432 with 1 Axes>"
      ]
     },
     "metadata": {
      "needs_background": "light"
     },
     "output_type": "display_data"
    }
   ],
   "source": [
    "# Plot the predictions\n",
    "\n",
    "fig, ax = plt.subplots(figsize=(10,6))\n",
    "\n",
    "ax.plot(np.exp(train_weekly))\n",
    "ax.plot(np.exp(test_weekly))\n",
    "ax.plot(np.exp(preds));"
   ]
  },
  {
   "cell_type": "markdown",
   "id": "edaa6f9c",
   "metadata": {},
   "source": [
    "Conclusions: the COVID downturn is messing with the predictions. Let's see if we can't add in controls for this."
   ]
  }
 ],
 "metadata": {
  "kernelspec": {
   "display_name": "citibike",
   "language": "python",
   "name": "citibike"
  },
  "language_info": {
   "codemirror_mode": {
    "name": "ipython",
    "version": 3
   },
   "file_extension": ".py",
   "mimetype": "text/x-python",
   "name": "python",
   "nbconvert_exporter": "python",
   "pygments_lexer": "ipython3",
   "version": "3.8.5"
  }
 },
 "nbformat": 4,
 "nbformat_minor": 5
}
