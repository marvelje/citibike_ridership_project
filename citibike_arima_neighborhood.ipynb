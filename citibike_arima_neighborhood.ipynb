{
 "cells": [
  {
   "cell_type": "markdown",
   "metadata": {},
   "source": [
    "# Neighborhood Modeling\n",
    "\n",
    "TBD"
   ]
  },
  {
   "cell_type": "markdown",
   "metadata": {},
   "source": [
    "# Summary\n",
    "\n",
    "TBD"
   ]
  },
  {
   "cell_type": "code",
   "execution_count": 4,
   "metadata": {},
   "outputs": [],
   "source": [
    "# Standard imports\n",
    "\n",
    "import pandas as pd\n",
    "import numpy as np\n",
    "import matplotlib.pyplot as plt\n",
    "import matplotlib\n",
    "import geopandas as gpd\n",
    "\n",
    "# Set style\n",
    "plt.style.use('seaborn')"
   ]
  },
  {
   "cell_type": "code",
   "execution_count": 5,
   "metadata": {},
   "outputs": [],
   "source": [
    "# Import util file\n",
    "\n",
    "from util import dickey_fuller, process_neighborhood, report_metrics, plot_results"
   ]
  },
  {
   "cell_type": "code",
   "execution_count": 6,
   "metadata": {},
   "outputs": [],
   "source": [
    "# Modeling\n",
    "\n",
    "from statsmodels.tsa.stattools import adfuller\n",
    "from statsmodels.tsa.arima.model import ARIMA\n",
    "from statsmodels.tsa.statespace.sarimax import SARIMAX\n",
    "import statsmodels.graphics.tsaplots as tsa\n",
    "\n",
    "import pmdarima as pm\n",
    "from pmdarima import model_selection\n",
    "from pmdarima.utils import decomposed_plot\n",
    "from pmdarima.arima import decompose\n",
    "from pmdarima.arima.stationarity import ADFTest\n",
    "\n",
    "from sklearn.linear_model import LinearRegression\n",
    "from sklearn import metrics"
   ]
  },
  {
   "cell_type": "code",
   "execution_count": 18,
   "metadata": {},
   "outputs": [],
   "source": [
    "df_citibike = pd.read_csv('./clean_data/final_clean_ridership.csv', low_memory=False)"
   ]
  },
  {
   "cell_type": "code",
   "execution_count": 20,
   "metadata": {},
   "outputs": [],
   "source": [
    "# Import clean dataset\n",
    "\n",
    "df_citibike = pd.read_csv('./clean_data/final_clean_ridership.csv', low_memory=False)\n",
    "\n",
    "# Convert starttime to date and set as index\n",
    "\n",
    "df_citibike['starttime'] = pd.to_datetime(df['starttime'])\n",
    "\n",
    "df_citibike.set_index('starttime', inplace=True)\n",
    "\n",
    "# Create the daily file\n",
    "\n",
    "daily_ridership = df_citibike[['ride_count']].resample('1D').sum()\n",
    "\n",
    "# Filter for only data prior to 5/1/2021 (logic for this is in the EDA notebook)\n",
    "# daily_ridership = daily_ridership[daily_ridership.index < '2021-06-01']\n",
    "\n",
    "# Backfill dates with 0 rides (logic for this change in EDA notebook)\n",
    "daily_ridership['ride_count'] = daily_ridership['ride_count'].replace(to_replace=0, method='bfill')"
   ]
  },
  {
   "cell_type": "code",
   "execution_count": 21,
   "metadata": {},
   "outputs": [],
   "source": [
    "# Read in clean neighborhood list and convert to list\n",
    "\n",
    "temp_df = pd.read_csv('./clean_data/neighborhood_list.csv', low_memory=False)\n",
    "\n",
    "neighborhood_list = list(temp_df.iloc[:,1])"
   ]
  },
  {
   "cell_type": "code",
   "execution_count": 28,
   "metadata": {},
   "outputs": [],
   "source": [
    "# Process each of the DFs in the neighborhood list\n",
    "\n",
    "df_dict = {}\n",
    "\n",
    "for neighborhood in neighborhood_list:\n",
    "    df = process_neighborhood(df_citibike, neighborhood)\n",
    "    df_dict[neighborhood] = df"
   ]
  },
  {
   "cell_type": "code",
   "execution_count": 31,
   "metadata": {},
   "outputs": [],
   "source": [
    "# Resample for weekly based on the results of the overall modeling\n",
    "\n",
    "for neighborhood, df in df_dict.items():\n",
    "    df_dict[neighborhood] = df[['ride_count']].resample('W-MON').sum()"
   ]
  },
  {
   "cell_type": "code",
   "execution_count": null,
   "metadata": {},
   "outputs": [],
   "source": []
  }
 ],
 "metadata": {
  "kernelspec": {
   "display_name": "Python (learn-env)",
   "language": "python",
   "name": "learn-env"
  },
  "language_info": {
   "codemirror_mode": {
    "name": "ipython",
    "version": 3
   },
   "file_extension": ".py",
   "mimetype": "text/x-python",
   "name": "python",
   "nbconvert_exporter": "python",
   "pygments_lexer": "ipython3",
   "version": "3.8.5"
  }
 },
 "nbformat": 4,
 "nbformat_minor": 4
}
