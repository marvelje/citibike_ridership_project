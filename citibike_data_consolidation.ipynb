{
 "cells": [
  {
   "cell_type": "markdown",
   "metadata": {},
   "source": [
    "### Data import\n",
    "\n",
    "Purpose of this notebook is to import and consolidate the monthly, processed CSV files and add in neighborhood"
   ]
  },
  {
   "cell_type": "code",
   "execution_count": 1,
   "metadata": {},
   "outputs": [],
   "source": [
    "import pandas as pd\n",
    "import numpy as np\n",
    "from geopy.geocoders import Nominatim"
   ]
  },
  {
   "cell_type": "code",
   "execution_count": 2,
   "metadata": {},
   "outputs": [],
   "source": [
    "# Read in each CSV and append to the dataframe list\n",
    "\n",
    "df_list = []\n",
    "month = 6\n",
    "year = 2013\n",
    "\n",
    "for i in range(101):\n",
    "    \n",
    "    if month > 12:\n",
    "        month = 1\n",
    "        year += 1\n",
    "    \n",
    "    if month >= 10:\n",
    "        df = pd.read_csv(f\"./processed/{year}{month}.csv\", index_col=0)\n",
    "        df_list.append(df)\n",
    "\n",
    "    else:\n",
    "        df = pd.read_csv(f\"./processed/{year}0{month}.csv\", index_col=0)\n",
    "        df_list.append(df)\n",
    "    \n",
    "    month += 1"
   ]
  },
  {
   "cell_type": "code",
   "execution_count": 3,
   "metadata": {},
   "outputs": [],
   "source": [
    "# Concat list of dataframes together\n",
    "\n",
    "df_final = pd.concat(df_list)"
   ]
  },
  {
   "cell_type": "code",
   "execution_count": 4,
   "metadata": {},
   "outputs": [],
   "source": [
    "# Make sure index is a datetime variable\n",
    "\n",
    "df_final.index = pd.to_datetime(df_final.index)\n",
    "df_final['year'] = df_final.index.map(lambda x: x.year)"
   ]
  },
  {
   "cell_type": "code",
   "execution_count": 5,
   "metadata": {},
   "outputs": [],
   "source": [
    "# Rename columns\n",
    "\n",
    "df_final = df_final.rename(columns={'start station id': 'station_id', 'start station latitude': 'lat', \n",
    "                                    'start station longitude': 'long'})"
   ]
  },
  {
   "cell_type": "code",
   "execution_count": 6,
   "metadata": {},
   "outputs": [
    {
     "data": {
      "text/html": [
       "<div>\n",
       "<style scoped>\n",
       "    .dataframe tbody tr th:only-of-type {\n",
       "        vertical-align: middle;\n",
       "    }\n",
       "\n",
       "    .dataframe tbody tr th {\n",
       "        vertical-align: top;\n",
       "    }\n",
       "\n",
       "    .dataframe thead th {\n",
       "        text-align: right;\n",
       "    }\n",
       "</style>\n",
       "<table border=\"1\" class=\"dataframe\">\n",
       "  <thead>\n",
       "    <tr style=\"text-align: right;\">\n",
       "      <th></th>\n",
       "      <th>station_id</th>\n",
       "      <th>lat</th>\n",
       "      <th>long</th>\n",
       "      <th>ride_count</th>\n",
       "      <th>year</th>\n",
       "    </tr>\n",
       "    <tr>\n",
       "      <th>starttime</th>\n",
       "      <th></th>\n",
       "      <th></th>\n",
       "      <th></th>\n",
       "      <th></th>\n",
       "      <th></th>\n",
       "    </tr>\n",
       "  </thead>\n",
       "  <tbody>\n",
       "    <tr>\n",
       "      <th>2013-06-01</th>\n",
       "      <td>72</td>\n",
       "      <td>40.767272</td>\n",
       "      <td>-73.993929</td>\n",
       "      <td>40</td>\n",
       "      <td>2013</td>\n",
       "    </tr>\n",
       "    <tr>\n",
       "      <th>2013-06-01</th>\n",
       "      <td>79</td>\n",
       "      <td>40.719116</td>\n",
       "      <td>-74.006667</td>\n",
       "      <td>61</td>\n",
       "      <td>2013</td>\n",
       "    </tr>\n",
       "    <tr>\n",
       "      <th>2013-06-01</th>\n",
       "      <td>82</td>\n",
       "      <td>40.711174</td>\n",
       "      <td>-74.000165</td>\n",
       "      <td>6</td>\n",
       "      <td>2013</td>\n",
       "    </tr>\n",
       "    <tr>\n",
       "      <th>2013-06-01</th>\n",
       "      <td>83</td>\n",
       "      <td>40.683826</td>\n",
       "      <td>-73.976323</td>\n",
       "      <td>32</td>\n",
       "      <td>2013</td>\n",
       "    </tr>\n",
       "    <tr>\n",
       "      <th>2013-06-01</th>\n",
       "      <td>116</td>\n",
       "      <td>40.741776</td>\n",
       "      <td>-74.001497</td>\n",
       "      <td>53</td>\n",
       "      <td>2013</td>\n",
       "    </tr>\n",
       "  </tbody>\n",
       "</table>\n",
       "</div>"
      ],
      "text/plain": [
       "           station_id        lat       long  ride_count  year\n",
       "starttime                                                    \n",
       "2013-06-01         72  40.767272 -73.993929          40  2013\n",
       "2013-06-01         79  40.719116 -74.006667          61  2013\n",
       "2013-06-01         82  40.711174 -74.000165           6  2013\n",
       "2013-06-01         83  40.683826 -73.976323          32  2013\n",
       "2013-06-01        116  40.741776 -74.001497          53  2013"
      ]
     },
     "execution_count": 6,
     "metadata": {},
     "output_type": "execute_result"
    }
   ],
   "source": [
    "df_final.head()"
   ]
  },
  {
   "cell_type": "code",
   "execution_count": 7,
   "metadata": {},
   "outputs": [
    {
     "name": "stdout",
     "output_type": "stream",
     "text": [
      "<class 'pandas.core.frame.DataFrame'>\n",
      "DatetimeIndex: 2144526 entries, 2013-06-01 to 2021-10-31\n",
      "Data columns (total 5 columns):\n",
      " #   Column      Dtype  \n",
      "---  ------      -----  \n",
      " 0   station_id  object \n",
      " 1   lat         float64\n",
      " 2   long        float64\n",
      " 3   ride_count  int64  \n",
      " 4   year        int64  \n",
      "dtypes: float64(2), int64(2), object(1)\n",
      "memory usage: 98.2+ MB\n"
     ]
    }
   ],
   "source": [
    "df_final.info()"
   ]
  },
  {
   "cell_type": "markdown",
   "metadata": {},
   "source": [
    "### Add in neighborhood\n",
    "\n",
    "- This will leverage Geopy's reverse geocoder functionality\n",
    "- Based on lat / long, the location object will include the NYC neighborhood"
   ]
  },
  {
   "cell_type": "code",
   "execution_count": 8,
   "metadata": {},
   "outputs": [],
   "source": [
    "# Create geolocator object\n",
    "\n",
    "geolocator = Nominatim(user_agent='marvel_app')"
   ]
  },
  {
   "cell_type": "code",
   "execution_count": 17,
   "metadata": {},
   "outputs": [],
   "source": [
    "# Create function to return lat / long\n",
    "\n",
    "def get_neighborhood(lat, long):\n",
    "    loc_string = str(lat) + ', ' + str(long)\n",
    "    location = geolocator.reverse(loc_string)\n",
    "    try:\n",
    "        neighborhood = location.raw['address']['neighbourhood']\n",
    "    except KeyError:\n",
    "        neighborhood = np.nan\n",
    "    \n",
    "    return neighborhood"
   ]
  },
  {
   "cell_type": "code",
   "execution_count": null,
   "metadata": {},
   "outputs": [],
   "source": [
    "# Apply neighborhood to each station\n",
    "\n",
    "df_final['neighborhood'] = df_final.apply(lambda row: get_neighborhood(row['lat'], row['long']), axis=1)"
   ]
  }
 ],
 "metadata": {
  "kernelspec": {
   "display_name": "Python (learn-env)",
   "language": "python",
   "name": "learn-env"
  },
  "language_info": {
   "codemirror_mode": {
    "name": "ipython",
    "version": 3
   },
   "file_extension": ".py",
   "mimetype": "text/x-python",
   "name": "python",
   "nbconvert_exporter": "python",
   "pygments_lexer": "ipython3",
   "version": "3.8.5"
  }
 },
 "nbformat": 4,
 "nbformat_minor": 4
}
