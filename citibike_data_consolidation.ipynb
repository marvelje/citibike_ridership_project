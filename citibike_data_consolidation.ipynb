{
 "cells": [
  {
   "cell_type": "markdown",
   "metadata": {},
   "source": [
    "### Data import\n",
    "\n",
    "Purpose of this notebook is to import and consolidate the monthly, processed CSV files and add in neighborhood"
   ]
  },
  {
   "cell_type": "code",
   "execution_count": 100,
   "metadata": {},
   "outputs": [],
   "source": [
    "import pandas as pd\n",
    "import numpy as np\n",
    "from geopy.geocoders import Nominatim\n",
    "from shapely.geometry import Point, Polygon, shape\n",
    "import geopandas as gpd\n",
    "import json"
   ]
  },
  {
   "cell_type": "code",
   "execution_count": 101,
   "metadata": {},
   "outputs": [],
   "source": [
    "# Function to return the neighborhood name given lat / long\n",
    "\n",
    "def get_neighborhood(lat, long):\n",
    "    '''\n",
    "    Accepts lat / long coordinates and returns the name of the neighborhood using reverse geocoding\n",
    "    Where the neighborhood doesn't exist, fill in these values with np.nan\n",
    "    '''\n",
    "    # Instantiate geolocator object\n",
    "    geolocator = Nominatim(user_agent='citi_bike_share_analysis')\n",
    "    \n",
    "    # Format lat and long to pass to reverse geolocator\n",
    "    loc_string = str(lat) + ', ' + str(long)\n",
    "    location = geolocator.reverse(loc_string)\n",
    "    \n",
    "    # Pull the neighborhood. If no neighborhood listed, then fill with null\n",
    "    try:\n",
    "        neighborhood = location.raw['address']['neighbourhood']\n",
    "    except KeyError:\n",
    "        neighborhood = np.nan\n",
    "\n",
    "    # Use this to make sure the function is actually working as intended if needed\n",
    "#     print(neighborhood)\n",
    "    \n",
    "    return neighborhood"
   ]
  },
  {
   "cell_type": "code",
   "execution_count": 102,
   "metadata": {},
   "outputs": [],
   "source": [
    "# Function to lookup the point in the JSON file and return the neighborhood\n",
    "\n",
    "def neighborhood_json(point):\n",
    "    '''\n",
    "    Function accepts a Point object from the shapely library.\n",
    "    It parses through the JSON of nyc neighborhood geo data, checking if any of them contain the point.\n",
    "    If there is a match, the neighborhood name is returned.\n",
    "    \n",
    "    '''\n",
    "    for feature in nycmap['features']:\n",
    "        polygon = shape(feature['geometry'])\n",
    "        if polygon.contains(point):\n",
    "            return feature['properties']['ntaname']\n",
    "            continue"
   ]
  },
  {
   "cell_type": "code",
   "execution_count": 128,
   "metadata": {},
   "outputs": [],
   "source": [
    "# Function to lookup the point in the JSON file and return the neighborhood\n",
    "\n",
    "def borough_json(point):\n",
    "    '''\n",
    "    This is a repeat of the function above, except to return borough instead of neighborhood.\n",
    "    \n",
    "    Function accepts a Point object from the shapely library.\n",
    "    It parses through the JSON of nyc neighborhood geo data, checking if any of them contain the point.\n",
    "    If there is a match, the borough name is returned.\n",
    "    \n",
    "    '''\n",
    "    for feature in nycmap['features']:\n",
    "        polygon = shape(feature['geometry'])\n",
    "        if polygon.contains(point):\n",
    "            return feature['properties']['boro_name']\n",
    "            continue"
   ]
  },
  {
   "cell_type": "code",
   "execution_count": 103,
   "metadata": {},
   "outputs": [],
   "source": [
    "# Read in each CSV and append to the dataframe list\n",
    "\n",
    "df_list = []\n",
    "month = 6\n",
    "year = 2013\n",
    "\n",
    "for i in range(101):\n",
    "    \n",
    "    if month > 12:\n",
    "        month = 1\n",
    "        year += 1\n",
    "    \n",
    "    if month >= 10:\n",
    "        df = pd.read_csv(f\"./processed/{year}{month}.csv\", index_col=0)\n",
    "        df_list.append(df)\n",
    "\n",
    "    else:\n",
    "        df = pd.read_csv(f\"./processed/{year}0{month}.csv\", index_col=0)\n",
    "        df_list.append(df)\n",
    "    \n",
    "    month += 1"
   ]
  },
  {
   "cell_type": "code",
   "execution_count": 104,
   "metadata": {},
   "outputs": [],
   "source": [
    "# Concat list of dataframes together\n",
    "\n",
    "df = pd.concat(df_list)"
   ]
  },
  {
   "cell_type": "code",
   "execution_count": 105,
   "metadata": {},
   "outputs": [],
   "source": [
    "# Make sure index is a datetime variable\n",
    "\n",
    "df.index = pd.to_datetime(df.index)\n",
    "df['year'] = df.index.map(lambda x: x.year)"
   ]
  },
  {
   "cell_type": "code",
   "execution_count": 106,
   "metadata": {},
   "outputs": [],
   "source": [
    "# Rename columns\n",
    "\n",
    "df = df.rename(columns={'start station id': 'station_id', 'start station latitude': 'lat', \n",
    "                                    'start station longitude': 'long'})"
   ]
  },
  {
   "cell_type": "code",
   "execution_count": 107,
   "metadata": {},
   "outputs": [
    {
     "data": {
      "text/html": [
       "<div>\n",
       "<style scoped>\n",
       "    .dataframe tbody tr th:only-of-type {\n",
       "        vertical-align: middle;\n",
       "    }\n",
       "\n",
       "    .dataframe tbody tr th {\n",
       "        vertical-align: top;\n",
       "    }\n",
       "\n",
       "    .dataframe thead th {\n",
       "        text-align: right;\n",
       "    }\n",
       "</style>\n",
       "<table border=\"1\" class=\"dataframe\">\n",
       "  <thead>\n",
       "    <tr style=\"text-align: right;\">\n",
       "      <th></th>\n",
       "      <th>station_id</th>\n",
       "      <th>lat</th>\n",
       "      <th>long</th>\n",
       "      <th>ride_count</th>\n",
       "      <th>year</th>\n",
       "    </tr>\n",
       "    <tr>\n",
       "      <th>starttime</th>\n",
       "      <th></th>\n",
       "      <th></th>\n",
       "      <th></th>\n",
       "      <th></th>\n",
       "      <th></th>\n",
       "    </tr>\n",
       "  </thead>\n",
       "  <tbody>\n",
       "    <tr>\n",
       "      <th>2013-06-01</th>\n",
       "      <td>72</td>\n",
       "      <td>40.767272</td>\n",
       "      <td>-73.993929</td>\n",
       "      <td>40</td>\n",
       "      <td>2013</td>\n",
       "    </tr>\n",
       "    <tr>\n",
       "      <th>2013-06-01</th>\n",
       "      <td>79</td>\n",
       "      <td>40.719116</td>\n",
       "      <td>-74.006667</td>\n",
       "      <td>61</td>\n",
       "      <td>2013</td>\n",
       "    </tr>\n",
       "    <tr>\n",
       "      <th>2013-06-01</th>\n",
       "      <td>82</td>\n",
       "      <td>40.711174</td>\n",
       "      <td>-74.000165</td>\n",
       "      <td>6</td>\n",
       "      <td>2013</td>\n",
       "    </tr>\n",
       "    <tr>\n",
       "      <th>2013-06-01</th>\n",
       "      <td>83</td>\n",
       "      <td>40.683826</td>\n",
       "      <td>-73.976323</td>\n",
       "      <td>32</td>\n",
       "      <td>2013</td>\n",
       "    </tr>\n",
       "    <tr>\n",
       "      <th>2013-06-01</th>\n",
       "      <td>116</td>\n",
       "      <td>40.741776</td>\n",
       "      <td>-74.001497</td>\n",
       "      <td>53</td>\n",
       "      <td>2013</td>\n",
       "    </tr>\n",
       "  </tbody>\n",
       "</table>\n",
       "</div>"
      ],
      "text/plain": [
       "           station_id        lat       long  ride_count  year\n",
       "starttime                                                    \n",
       "2013-06-01         72  40.767272 -73.993929          40  2013\n",
       "2013-06-01         79  40.719116 -74.006667          61  2013\n",
       "2013-06-01         82  40.711174 -74.000165           6  2013\n",
       "2013-06-01         83  40.683826 -73.976323          32  2013\n",
       "2013-06-01        116  40.741776 -74.001497          53  2013"
      ]
     },
     "execution_count": 107,
     "metadata": {},
     "output_type": "execute_result"
    }
   ],
   "source": [
    "df.head()"
   ]
  },
  {
   "cell_type": "code",
   "execution_count": 108,
   "metadata": {},
   "outputs": [
    {
     "name": "stdout",
     "output_type": "stream",
     "text": [
      "<class 'pandas.core.frame.DataFrame'>\n",
      "DatetimeIndex: 2144526 entries, 2013-06-01 to 2021-10-31\n",
      "Data columns (total 5 columns):\n",
      " #   Column      Dtype  \n",
      "---  ------      -----  \n",
      " 0   station_id  object \n",
      " 1   lat         float64\n",
      " 2   long        float64\n",
      " 3   ride_count  int64  \n",
      " 4   year        int64  \n",
      "dtypes: float64(2), int64(2), object(1)\n",
      "memory usage: 98.2+ MB\n"
     ]
    }
   ],
   "source": [
    "df.info()"
   ]
  },
  {
   "cell_type": "markdown",
   "metadata": {},
   "source": [
    "# NYC neighborhood\n",
    "\n",
    "- Will test a couple approaches for incorporating neighborhood\n",
    "- There are two types of outliers found in the coordinate EDA:\n",
    "    - Stations with 0 lat / long data. The majority of these are for one station where it was just blank in a few instances. The 0s for this station were filled in using the other values. The remaining blanks were dropped.\n",
    "    - There are a few stations with coordinates up in Montreal (and even with French sounding names?). Not sure how those ended up in teh dataset, but I dropped those as well.\n",
    "    - Cumulatively, these stations represented only ~200 rides out of ~150mm."
   ]
  },
  {
   "cell_type": "code",
   "execution_count": 109,
   "metadata": {},
   "outputs": [
    {
     "name": "stdout",
     "output_type": "stream",
     "text": [
      "<class 'pandas.core.frame.DataFrame'>\n",
      "RangeIndex: 3849 entries, 0 to 3848\n",
      "Data columns (total 3 columns):\n",
      " #   Column      Non-Null Count  Dtype  \n",
      "---  ------      --------------  -----  \n",
      " 0   station_id  3849 non-null   object \n",
      " 1   lat         3849 non-null   float64\n",
      " 2   long        3849 non-null   float64\n",
      "dtypes: float64(2), object(1)\n",
      "memory usage: 90.3+ KB\n"
     ]
    }
   ],
   "source": [
    "# Find unique set of stations\n",
    "\n",
    "df_unique = df.drop_duplicates(subset='station_id')\n",
    "\n",
    "df_stations = df_unique[['station_id', 'lat', 'long']].reset_index().drop('starttime', axis=1)\n",
    "\n",
    "df_stations.info()\n",
    "\n",
    "# There may be some \"duplicate stations\" given that the IDs may not be consistently named"
   ]
  },
  {
   "cell_type": "code",
   "execution_count": 110,
   "metadata": {},
   "outputs": [
    {
     "data": {
      "text/html": [
       "<div>\n",
       "<style scoped>\n",
       "    .dataframe tbody tr th:only-of-type {\n",
       "        vertical-align: middle;\n",
       "    }\n",
       "\n",
       "    .dataframe tbody tr th {\n",
       "        vertical-align: top;\n",
       "    }\n",
       "\n",
       "    .dataframe thead th {\n",
       "        text-align: right;\n",
       "    }\n",
       "</style>\n",
       "<table border=\"1\" class=\"dataframe\">\n",
       "  <thead>\n",
       "    <tr style=\"text-align: right;\">\n",
       "      <th></th>\n",
       "      <th>station_id</th>\n",
       "      <th>lat</th>\n",
       "      <th>long</th>\n",
       "    </tr>\n",
       "  </thead>\n",
       "  <tbody>\n",
       "    <tr>\n",
       "      <th>0</th>\n",
       "      <td>72</td>\n",
       "      <td>40.767272</td>\n",
       "      <td>-73.993929</td>\n",
       "    </tr>\n",
       "    <tr>\n",
       "      <th>1</th>\n",
       "      <td>79</td>\n",
       "      <td>40.719116</td>\n",
       "      <td>-74.006667</td>\n",
       "    </tr>\n",
       "    <tr>\n",
       "      <th>2</th>\n",
       "      <td>82</td>\n",
       "      <td>40.711174</td>\n",
       "      <td>-74.000165</td>\n",
       "    </tr>\n",
       "    <tr>\n",
       "      <th>3</th>\n",
       "      <td>83</td>\n",
       "      <td>40.683826</td>\n",
       "      <td>-73.976323</td>\n",
       "    </tr>\n",
       "    <tr>\n",
       "      <th>4</th>\n",
       "      <td>116</td>\n",
       "      <td>40.741776</td>\n",
       "      <td>-74.001497</td>\n",
       "    </tr>\n",
       "  </tbody>\n",
       "</table>\n",
       "</div>"
      ],
      "text/plain": [
       "  station_id        lat       long\n",
       "0         72  40.767272 -73.993929\n",
       "1         79  40.719116 -74.006667\n",
       "2         82  40.711174 -74.000165\n",
       "3         83  40.683826 -73.976323\n",
       "4        116  40.741776 -74.001497"
      ]
     },
     "execution_count": 110,
     "metadata": {},
     "output_type": "execute_result"
    }
   ],
   "source": [
    "df_stations.head()"
   ]
  },
  {
   "cell_type": "code",
   "execution_count": 111,
   "metadata": {},
   "outputs": [],
   "source": [
    "# Simplify down to only lat and long\n",
    "\n",
    "df_lat_long = df_stations[['lat', 'long']]\n",
    "\n",
    "# Convert to geopandas object\n",
    "\n",
    "gdf_citibike = gpd.GeoDataFrame(df_lat_long, geometry=gpd.points_from_xy(df_lat_long.long, df_lat_long.lat))"
   ]
  },
  {
   "cell_type": "code",
   "execution_count": 112,
   "metadata": {},
   "outputs": [
    {
     "data": {
      "text/html": [
       "<div>\n",
       "<style scoped>\n",
       "    .dataframe tbody tr th:only-of-type {\n",
       "        vertical-align: middle;\n",
       "    }\n",
       "\n",
       "    .dataframe tbody tr th {\n",
       "        vertical-align: top;\n",
       "    }\n",
       "\n",
       "    .dataframe thead th {\n",
       "        text-align: right;\n",
       "    }\n",
       "</style>\n",
       "<table border=\"1\" class=\"dataframe\">\n",
       "  <thead>\n",
       "    <tr style=\"text-align: right;\">\n",
       "      <th></th>\n",
       "      <th>lat</th>\n",
       "      <th>long</th>\n",
       "      <th>geometry</th>\n",
       "    </tr>\n",
       "  </thead>\n",
       "  <tbody>\n",
       "    <tr>\n",
       "      <th>0</th>\n",
       "      <td>40.767272</td>\n",
       "      <td>-73.993929</td>\n",
       "      <td>POINT (-73.99393 40.76727)</td>\n",
       "    </tr>\n",
       "    <tr>\n",
       "      <th>1</th>\n",
       "      <td>40.719116</td>\n",
       "      <td>-74.006667</td>\n",
       "      <td>POINT (-74.00667 40.71912)</td>\n",
       "    </tr>\n",
       "    <tr>\n",
       "      <th>2</th>\n",
       "      <td>40.711174</td>\n",
       "      <td>-74.000165</td>\n",
       "      <td>POINT (-74.00017 40.71117)</td>\n",
       "    </tr>\n",
       "    <tr>\n",
       "      <th>3</th>\n",
       "      <td>40.683826</td>\n",
       "      <td>-73.976323</td>\n",
       "      <td>POINT (-73.97632 40.68383)</td>\n",
       "    </tr>\n",
       "    <tr>\n",
       "      <th>4</th>\n",
       "      <td>40.741776</td>\n",
       "      <td>-74.001497</td>\n",
       "      <td>POINT (-74.00150 40.74178)</td>\n",
       "    </tr>\n",
       "  </tbody>\n",
       "</table>\n",
       "</div>"
      ],
      "text/plain": [
       "         lat       long                    geometry\n",
       "0  40.767272 -73.993929  POINT (-73.99393 40.76727)\n",
       "1  40.719116 -74.006667  POINT (-74.00667 40.71912)\n",
       "2  40.711174 -74.000165  POINT (-74.00017 40.71117)\n",
       "3  40.683826 -73.976323  POINT (-73.97632 40.68383)\n",
       "4  40.741776 -74.001497  POINT (-74.00150 40.74178)"
      ]
     },
     "execution_count": 112,
     "metadata": {},
     "output_type": "execute_result"
    }
   ],
   "source": [
    "gdf_citibike.head()"
   ]
  },
  {
   "cell_type": "code",
   "execution_count": 113,
   "metadata": {},
   "outputs": [
    {
     "data": {
      "image/png": "[encoded data removed]",
      "text/plain": [
       "<Figure size 432x288 with 1 Axes>"
      ]
     },
     "metadata": {
      "needs_background": "light"
     },
     "output_type": "display_data"
    }
   ],
   "source": [
    "# Plot the stations\n",
    "# There appears to be two groups of outliers: stations without coordinates and stations that look to be outside NYC\n",
    "# By Looking \n",
    "\n",
    "gdf_citibike.plot();"
   ]
  },
  {
   "cell_type": "code",
   "execution_count": 114,
   "metadata": {},
   "outputs": [
    {
     "data": {
      "text/plain": [
       "[3240, 3446, 3248, 3488, 3633, 3215, 3480, 3650]"
      ]
     },
     "execution_count": 114,
     "metadata": {},
     "output_type": "execute_result"
    }
   ],
   "source": [
    "# Find list of all the outlier station IDs\n",
    "\n",
    "outlier_coord = df_stations[(df_stations['lat'] >= 42) | (df_stations['lat'] == 0)]\n",
    "\n",
    "outlier_stations = list(outlier_coord['station_id'])\n",
    "\n",
    "outlier_stations"
   ]
  },
  {
   "cell_type": "code",
   "execution_count": 115,
   "metadata": {},
   "outputs": [
    {
     "data": {
      "text/plain": [
       "2020"
      ]
     },
     "execution_count": 115,
     "metadata": {},
     "output_type": "execute_result"
    }
   ],
   "source": [
    "# Lookup these null values in the main dataframe\n",
    "# There are only 2,000 rides that fall under these stations. Not bad, but maybe we can clean it up a bit\n",
    "\n",
    "outlier_check = df[df['station_id'].isin(outlier_stations)]\n",
    "\n",
    "outlier_check['ride_count'].sum()"
   ]
  },
  {
   "cell_type": "code",
   "execution_count": 116,
   "metadata": {},
   "outputs": [
    {
     "data": {
      "text/html": [
       "<div>\n",
       "<style scoped>\n",
       "    .dataframe tbody tr th:only-of-type {\n",
       "        vertical-align: middle;\n",
       "    }\n",
       "\n",
       "    .dataframe tbody tr th {\n",
       "        vertical-align: top;\n",
       "    }\n",
       "\n",
       "    .dataframe thead th {\n",
       "        text-align: right;\n",
       "    }\n",
       "</style>\n",
       "<table border=\"1\" class=\"dataframe\">\n",
       "  <thead>\n",
       "    <tr style=\"text-align: right;\">\n",
       "      <th></th>\n",
       "      <th>station_id</th>\n",
       "      <th>lat</th>\n",
       "      <th>long</th>\n",
       "      <th>ride_count</th>\n",
       "      <th>year</th>\n",
       "    </tr>\n",
       "    <tr>\n",
       "      <th>starttime</th>\n",
       "      <th></th>\n",
       "      <th></th>\n",
       "      <th></th>\n",
       "      <th></th>\n",
       "      <th></th>\n",
       "    </tr>\n",
       "  </thead>\n",
       "  <tbody>\n",
       "    <tr>\n",
       "      <th>2016-12-09</th>\n",
       "      <td>3240</td>\n",
       "      <td>0.0</td>\n",
       "      <td>0.0</td>\n",
       "      <td>1</td>\n",
       "      <td>2016</td>\n",
       "    </tr>\n",
       "    <tr>\n",
       "      <th>2016-12-23</th>\n",
       "      <td>3240</td>\n",
       "      <td>0.0</td>\n",
       "      <td>0.0</td>\n",
       "      <td>1</td>\n",
       "      <td>2016</td>\n",
       "    </tr>\n",
       "    <tr>\n",
       "      <th>2016-12-29</th>\n",
       "      <td>3240</td>\n",
       "      <td>0.0</td>\n",
       "      <td>0.0</td>\n",
       "      <td>1</td>\n",
       "      <td>2016</td>\n",
       "    </tr>\n",
       "  </tbody>\n",
       "</table>\n",
       "</div>"
      ],
      "text/plain": [
       "           station_id  lat  long  ride_count  year\n",
       "starttime                                         \n",
       "2016-12-09       3240  0.0   0.0           1  2016\n",
       "2016-12-23       3240  0.0   0.0           1  2016\n",
       "2016-12-29       3240  0.0   0.0           1  2016"
      ]
     },
     "metadata": {},
     "output_type": "display_data"
    },
    {
     "data": {
      "text/html": [
       "<div>\n",
       "<style scoped>\n",
       "    .dataframe tbody tr th:only-of-type {\n",
       "        vertical-align: middle;\n",
       "    }\n",
       "\n",
       "    .dataframe tbody tr th {\n",
       "        vertical-align: top;\n",
       "    }\n",
       "\n",
       "    .dataframe thead th {\n",
       "        text-align: right;\n",
       "    }\n",
       "</style>\n",
       "<table border=\"1\" class=\"dataframe\">\n",
       "  <thead>\n",
       "    <tr style=\"text-align: right;\">\n",
       "      <th></th>\n",
       "      <th>station_id</th>\n",
       "      <th>lat</th>\n",
       "      <th>long</th>\n",
       "      <th>ride_count</th>\n",
       "      <th>year</th>\n",
       "    </tr>\n",
       "    <tr>\n",
       "      <th>starttime</th>\n",
       "      <th></th>\n",
       "      <th></th>\n",
       "      <th></th>\n",
       "      <th></th>\n",
       "      <th></th>\n",
       "    </tr>\n",
       "  </thead>\n",
       "  <tbody>\n",
       "    <tr>\n",
       "      <th>2021-07-18</th>\n",
       "      <td>3240</td>\n",
       "      <td>40.649037</td>\n",
       "      <td>-73.97673</td>\n",
       "      <td>17</td>\n",
       "      <td>2021</td>\n",
       "    </tr>\n",
       "    <tr>\n",
       "      <th>2021-07-19</th>\n",
       "      <td>3240</td>\n",
       "      <td>40.649037</td>\n",
       "      <td>-73.97673</td>\n",
       "      <td>23</td>\n",
       "      <td>2021</td>\n",
       "    </tr>\n",
       "  </tbody>\n",
       "</table>\n",
       "</div>"
      ],
      "text/plain": [
       "           station_id        lat      long  ride_count  year\n",
       "starttime                                                   \n",
       "2021-07-18       3240  40.649037 -73.97673          17  2021\n",
       "2021-07-19       3240  40.649037 -73.97673          23  2021"
      ]
     },
     "metadata": {},
     "output_type": "display_data"
    }
   ],
   "source": [
    "# The majority of outlier stations are because a few of the 3240 stations have blank lat / long (the rest are filled in)\n",
    "# I will fill these values with the coordinates that appear in the rest of the dataset\n",
    "\n",
    "display(outlier_check[(outlier_check['station_id'] == 3240) & (outlier_check['lat'] == 0)])\n",
    "display(outlier_check[outlier_check['station_id'] == 3240].iloc[150:152,:])"
   ]
  },
  {
   "cell_type": "code",
   "execution_count": 117,
   "metadata": {},
   "outputs": [],
   "source": [
    "# Fill in missing values for the 3240 station\n",
    "\n",
    "df[(df['station_id'] == 3240) & (df['lat'] == 0)] = [3240, 40.649037, -73.976730, 1, 2016]"
   ]
  },
  {
   "cell_type": "code",
   "execution_count": 118,
   "metadata": {},
   "outputs": [],
   "source": [
    "# Rerun cells above to check new list of outliers\n",
    "# Find unique set of stations\n",
    "\n",
    "df_unique = df.drop_duplicates(subset='station_id')\n",
    "\n",
    "df_stations = df_unique[['station_id', 'lat', 'long']].reset_index().drop('starttime', axis=1)"
   ]
  },
  {
   "cell_type": "code",
   "execution_count": 119,
   "metadata": {},
   "outputs": [
    {
     "data": {
      "text/plain": [
       "206"
      ]
     },
     "execution_count": 119,
     "metadata": {},
     "output_type": "execute_result"
    }
   ],
   "source": [
    "# Find list of all the outlier station IDs\n",
    "# Only 206 total rides (out of 10s of millions) are associated with stations without an ID\n",
    "\n",
    "outlier_coord = df_stations[(df_stations['lat'] >= 42) | (df_stations['lat'] == 0)]\n",
    "\n",
    "outlier_stations = list(outlier_coord['station_id'])\n",
    "\n",
    "outlier_check = df[df['station_id'].isin(outlier_stations)]\n",
    "\n",
    "outlier_check['ride_count'].sum()"
   ]
  },
  {
   "cell_type": "code",
   "execution_count": 120,
   "metadata": {},
   "outputs": [
    {
     "data": {
      "text/html": [
       "<div>\n",
       "<style scoped>\n",
       "    .dataframe tbody tr th:only-of-type {\n",
       "        vertical-align: middle;\n",
       "    }\n",
       "\n",
       "    .dataframe tbody tr th {\n",
       "        vertical-align: top;\n",
       "    }\n",
       "\n",
       "    .dataframe thead th {\n",
       "        text-align: right;\n",
       "    }\n",
       "</style>\n",
       "<table border=\"1\" class=\"dataframe\">\n",
       "  <thead>\n",
       "    <tr style=\"text-align: right;\">\n",
       "      <th></th>\n",
       "      <th>station_id</th>\n",
       "      <th>lat</th>\n",
       "      <th>long</th>\n",
       "      <th>ride_count</th>\n",
       "      <th>year</th>\n",
       "    </tr>\n",
       "    <tr>\n",
       "      <th>starttime</th>\n",
       "      <th></th>\n",
       "      <th></th>\n",
       "      <th></th>\n",
       "      <th></th>\n",
       "      <th></th>\n",
       "    </tr>\n",
       "  </thead>\n",
       "  <tbody>\n",
       "    <tr>\n",
       "      <th>2017-01-30</th>\n",
       "      <td>3446</td>\n",
       "      <td>0.0</td>\n",
       "      <td>0.0</td>\n",
       "      <td>2</td>\n",
       "      <td>2017</td>\n",
       "    </tr>\n",
       "    <tr>\n",
       "      <th>2017-06-27</th>\n",
       "      <td>3248</td>\n",
       "      <td>0.0</td>\n",
       "      <td>0.0</td>\n",
       "      <td>2</td>\n",
       "      <td>2017</td>\n",
       "    </tr>\n",
       "    <tr>\n",
       "      <th>2017-09-14</th>\n",
       "      <td>3633</td>\n",
       "      <td>0.0</td>\n",
       "      <td>0.0</td>\n",
       "      <td>1</td>\n",
       "      <td>2017</td>\n",
       "    </tr>\n",
       "    <tr>\n",
       "      <th>2017-10-01</th>\n",
       "      <td>3215</td>\n",
       "      <td>0.0</td>\n",
       "      <td>0.0</td>\n",
       "      <td>7</td>\n",
       "      <td>2017</td>\n",
       "    </tr>\n",
       "    <tr>\n",
       "      <th>2017-10-01</th>\n",
       "      <td>3480</td>\n",
       "      <td>0.0</td>\n",
       "      <td>0.0</td>\n",
       "      <td>17</td>\n",
       "      <td>2017</td>\n",
       "    </tr>\n",
       "    <tr>\n",
       "      <th>2017-10-02</th>\n",
       "      <td>3215</td>\n",
       "      <td>0.0</td>\n",
       "      <td>0.0</td>\n",
       "      <td>1</td>\n",
       "      <td>2017</td>\n",
       "    </tr>\n",
       "    <tr>\n",
       "      <th>2017-10-02</th>\n",
       "      <td>3480</td>\n",
       "      <td>0.0</td>\n",
       "      <td>0.0</td>\n",
       "      <td>13</td>\n",
       "      <td>2017</td>\n",
       "    </tr>\n",
       "  </tbody>\n",
       "</table>\n",
       "</div>"
      ],
      "text/plain": [
       "           station_id  lat  long  ride_count  year\n",
       "starttime                                         \n",
       "2017-01-30       3446  0.0   0.0           2  2017\n",
       "2017-06-27       3248  0.0   0.0           2  2017\n",
       "2017-09-14       3633  0.0   0.0           1  2017\n",
       "2017-10-01       3215  0.0   0.0           7  2017\n",
       "2017-10-01       3480  0.0   0.0          17  2017\n",
       "2017-10-02       3215  0.0   0.0           1  2017\n",
       "2017-10-02       3480  0.0   0.0          13  2017"
      ]
     },
     "execution_count": 120,
     "metadata": {},
     "output_type": "execute_result"
    }
   ],
   "source": [
    "# One final check: these stations with missing lat / long do not have other details we can use to fill it in\n",
    "# Stations will be dropped from the dataframe\n",
    "\n",
    "df[df['station_id'].isin(list(df_stations[df_stations['lat'] == 0]['station_id']))]"
   ]
  },
  {
   "cell_type": "code",
   "execution_count": 121,
   "metadata": {},
   "outputs": [],
   "source": [
    "# Final dataset will remove remaining stations with 0 coordinates and those with a latitude above 42\n",
    "\n",
    "df = df[(df['lat'] != 0) & (df['lat'] < 42)]"
   ]
  },
  {
   "cell_type": "code",
   "execution_count": 122,
   "metadata": {},
   "outputs": [
    {
     "name": "stdout",
     "output_type": "stream",
     "text": [
      "<class 'pandas.core.frame.DataFrame'>\n",
      "RangeIndex: 3842 entries, 0 to 3841\n",
      "Data columns (total 3 columns):\n",
      " #   Column      Non-Null Count  Dtype  \n",
      "---  ------      --------------  -----  \n",
      " 0   station_id  3842 non-null   object \n",
      " 1   lat         3842 non-null   float64\n",
      " 2   long        3842 non-null   float64\n",
      "dtypes: float64(2), object(1)\n",
      "memory usage: 90.2+ KB\n"
     ]
    }
   ],
   "source": [
    "# Redo the steps above for the final stations\n",
    "\n",
    "# Find unique set of stations\n",
    "\n",
    "df_unique = df.drop_duplicates(subset='station_id')\n",
    "\n",
    "df_stations = df_unique[['station_id', 'lat', 'long']].reset_index().drop('starttime', axis=1)\n",
    "\n",
    "df_stations.info()\n",
    "\n",
    "# There may be some \"duplicate stations\" given that the IDs may not be consistently named"
   ]
  },
  {
   "cell_type": "code",
   "execution_count": 123,
   "metadata": {},
   "outputs": [
    {
     "data": {
      "image/png": "[encoded data removed]",
      "text/plain": [
       "<Figure size 432x288 with 1 Axes>"
      ]
     },
     "metadata": {
      "needs_background": "light"
     },
     "output_type": "display_data"
    }
   ],
   "source": [
    "# Simplify down to only lat and long\n",
    "\n",
    "df_lat_long = df_stations[['lat', 'long']]\n",
    "\n",
    "# Convert to geopandas object\n",
    "\n",
    "gdf_citibike = gpd.GeoDataFrame(df_lat_long, geometry=gpd.points_from_xy(df_lat_long.long, df_lat_long.lat))\n",
    "\n",
    "gdf_citibike.plot();\n",
    "\n",
    "# Much better! Looks like NYC. There are a couple points that look like they're in New Jersey, but\n",
    "# the geocoding should take care of those"
   ]
  },
  {
   "cell_type": "markdown",
   "metadata": {},
   "source": [
    "### Neighborhood: geopy reverse geocoder\n",
    "\n",
    "- This will leverage Geopy's reverse geocoder functionality\n",
    "- Based on lat / long, the location object will include the NYC neighborhood\n",
    "\n",
    "#### Result:\n",
    "\n",
    "- This library has nice functionality but it produced an unacceptably high number of null values.\n",
    "- Upon review of these nulls, the geolocation is actually too specific (?) to have a neighborhood tag, i.e., will say 'citibike station at x, y, z location' rather than the neighborhood."
   ]
  },
  {
   "cell_type": "code",
   "execution_count": 124,
   "metadata": {},
   "outputs": [
    {
     "data": {
      "text/plain": [
       "'Theater District'"
      ]
     },
     "execution_count": 124,
     "metadata": {},
     "output_type": "execute_result"
    }
   ],
   "source": [
    "# Test on sample lat /long\n",
    "\n",
    "geolocator = Nominatim(user_agent='citi_bike_share_analysis')\n",
    "\n",
    "sample_lat_long = df_stations.loc[0,['lat', 'long']]\n",
    "lat = sample_lat_long[0]\n",
    "long = sample_lat_long[1]\n",
    "combined = str(lat) + ', ' + str(long)\n",
    "location = geolocator.reverse(combined)\n",
    "location.raw['address']['neighbourhood']"
   ]
  },
  {
   "cell_type": "code",
   "execution_count": 37,
   "metadata": {},
   "outputs": [],
   "source": [
    "# Apply geolocator to every station in the dataset\n",
    "\n",
    "# df_stations['neighborhood'] = df_stations.apply(lambda row: get_neighborhood(row['lat'], row['long']), axis=1)"
   ]
  },
  {
   "cell_type": "code",
   "execution_count": 39,
   "metadata": {},
   "outputs": [],
   "source": [
    "# Export neighborhood data to CSV \n",
    "# (this ensures we have our worked saved so we don't need to run the previous cell again)\n",
    "\n",
    "# df_stations.to_csv('./neighborhoods/neighborhood_list.csv')"
   ]
  },
  {
   "cell_type": "code",
   "execution_count": 42,
   "metadata": {},
   "outputs": [],
   "source": [
    "null_neighborhoods = df_stations[df_stations['neighborhood'].isna()]"
   ]
  },
  {
   "cell_type": "markdown",
   "metadata": {},
   "source": [
    "### Neighborhood: geo_json\n",
    "\n",
    "- The below will attempt to map neighborhood to the stations using NYC geo_json data of neighborhoods\n",
    "- NYC open data publishes geo data, which divides NYC into its main neighborhoods\n",
    "- By coverting the lat / long to a \"point\" object, I can search in the JSON for a match and pull in the corresponding neighborhood and borough information.\n",
    "- This seems to produce the most sensible result vs. reverse geocoding"
   ]
  },
  {
   "cell_type": "code",
   "execution_count": 129,
   "metadata": {},
   "outputs": [],
   "source": [
    "# Read in JSON map of NYC neighborhoods\n",
    "\n",
    "nycmap = json.load(open('./nyc_geo_data/2010 Neighborhood Tabulation Areas (NTAs).geojson'))"
   ]
  },
  {
   "cell_type": "code",
   "execution_count": 130,
   "metadata": {},
   "outputs": [
    {
     "data": {
      "text/plain": [
       "{'type': 'Feature',\n",
       " 'properties': {'ntacode': 'QN51',\n",
       "  'shape_area': '52488277.4492',\n",
       "  'county_fips': '081',\n",
       "  'ntaname': 'Murray Hill',\n",
       "  'shape_leng': '33266.9048559',\n",
       "  'boro_name': 'Queens',\n",
       "  'boro_code': '4'},\n",
       " 'geometry': {'type': 'MultiPolygon',\n",
       "  'coordinates': [[[[-73.80379022888246, 40.77561011179248],\n",
       "     [-73.80098974064948, 40.77538911645844],\n",
       "     [-73.79865192006208, 40.77520055898499],\n",
       "     [-73.79853009427278, 40.77519072888339],\n",
       "     [-73.7982329551194, 40.77484830546582],\n",
       "     [-73.7978540045323, 40.77441566944928],\n",
       "     [-73.79772190077279, 40.774272373809396],\n",
       "     [-73.79757522894504, 40.77413684204422],\n",
       "     [-73.79741530994487, 40.77401038228574],\n",
       "     [-73.79741522772021, 40.774010319151415],\n",
       "     [-73.79741514502729, 40.774010265062664],\n",
       "     [-73.79730005603771, 40.77393228605373],\n",
       "     [-73.79724339821908, 40.77389389663614],\n",
       "     [-73.79672685097921, 40.77360922870773],\n",
       "     [-73.79652490521445, 40.773503278471615],\n",
       "     [-73.79571707389985, 40.77306964277881],\n",
       "     [-73.7956570207727, 40.773036086714605],\n",
       "     [-73.79521550584715, 40.77267490720624],\n",
       "     [-73.79507190291262, 40.77254212458487],\n",
       "     [-73.79493636799305, 40.77240453038557],\n",
       "     [-73.79480546134086, 40.77225687477913],\n",
       "     [-73.79415923541369, 40.771516038270406],\n",
       "     [-73.79394905802262, 40.77126737493738],\n",
       "     [-73.79323711864232, 40.770467720809286],\n",
       "     [-73.79317944556045, 40.770403177727864],\n",
       "     [-73.79321182316966, 40.77033648909939],\n",
       "     [-73.79342227701162, 40.76859990751411],\n",
       "     [-73.7936127962241, 40.7672233575515],\n",
       "     [-73.79395914652879, 40.76469531992565],\n",
       "     [-73.79302551365764, 40.76462119218867],\n",
       "     [-73.79322483940079, 40.76314200768082],\n",
       "     [-73.7933454626059, 40.762295342852354],\n",
       "     [-73.79343673769405, 40.761596830829085],\n",
       "     [-73.79343800248607, 40.76151352662953],\n",
       "     [-73.79344299910191, 40.76118533750806],\n",
       "     [-73.79344033536174, 40.7608225267166],\n",
       "     [-73.79343991212555, 40.76076412796247],\n",
       "     [-73.79255338049309, 40.76084029433971],\n",
       "     [-73.79165466242237, 40.76091206344292],\n",
       "     [-73.79076004620481, 40.76098576942467],\n",
       "     [-73.79053451035577, 40.75937303821016],\n",
       "     [-73.79031516996666, 40.757823450590294],\n",
       "     [-73.79122151560277, 40.75779876580732],\n",
       "     [-73.79201171496791, 40.75778015034508],\n",
       "     [-73.79212059100126, 40.75777758234753],\n",
       "     [-73.79303015813379, 40.757756193775556],\n",
       "     [-73.79402473959107, 40.757735968956545],\n",
       "     [-73.79493246233996, 40.75779803007454],\n",
       "     [-73.7958043765478, 40.758091217004676],\n",
       "     [-73.79621926933264, 40.758241679534095],\n",
       "     [-73.7967046787129, 40.75841771177727],\n",
       "     [-73.79760259802707, 40.758744178543594],\n",
       "     [-73.79850160206708, 40.75907103553954],\n",
       "     [-73.79940088902902, 40.75939721905914],\n",
       "     [-73.80030039037474, 40.75970229914455],\n",
       "     [-73.80125017485658, 40.75982823730045],\n",
       "     [-73.80215291895342, 40.75998721801133],\n",
       "     [-73.80307328932783, 40.76012624811296],\n",
       "     [-73.80399971294425, 40.7602704875326],\n",
       "     [-73.80491668517477, 40.76044041190099],\n",
       "     [-73.80584005382896, 40.76061539065562],\n",
       "     [-73.8067604864991, 40.76078777314707],\n",
       "     [-73.80768023729503, 40.76095995883445],\n",
       "     [-73.80859484054315, 40.76113246182391],\n",
       "     [-73.80951372622066, 40.76129991102496],\n",
       "     [-73.81044348365442, 40.76137743901466],\n",
       "     [-73.81104963173331, 40.76141702058464],\n",
       "     [-73.8122677810063, 40.76113002164715],\n",
       "     [-73.81313229873767, 40.7608983491404],\n",
       "     [-73.81399882876018, 40.760665034320375],\n",
       "     [-73.81508732575519, 40.760371610605524],\n",
       "     [-73.81728821410807, 40.75977554707266],\n",
       "     [-73.82063593339372, 40.75887226784799],\n",
       "     [-73.82080684858931, 40.758941783316445],\n",
       "     [-73.82116405016134, 40.75968607609668],\n",
       "     [-73.82155809662825, 40.760534324499176],\n",
       "     [-73.82176735371574, 40.76097981376628],\n",
       "     [-73.8218107714836, 40.761072236774076],\n",
       "     [-73.82207359778963, 40.7616249540048],\n",
       "     [-73.82260198317297, 40.76275935649199],\n",
       "     [-73.8230251334364, 40.763666341209294],\n",
       "     [-73.82348245212701, 40.7646517923674],\n",
       "     [-73.82372658234787, 40.76582551589908],\n",
       "     [-73.82395032587073, 40.76688720215759],\n",
       "     [-73.82421202453423, 40.7681692279993],\n",
       "     [-73.82444330283612, 40.76928551407862],\n",
       "     [-73.82466909032317, 40.77040760780862],\n",
       "     [-73.82556485219212, 40.77028296009969],\n",
       "     [-73.82604927472877, 40.77021081449477],\n",
       "     [-73.82655841971643, 40.7701370835933],\n",
       "     [-73.82656578893099, 40.770641476230956],\n",
       "     [-73.82657511687418, 40.771630353012554],\n",
       "     [-73.8265748186573, 40.772345397962916],\n",
       "     [-73.82647720818895, 40.77311644279062],\n",
       "     [-73.82625348460336, 40.77452065960432],\n",
       "     [-73.82583089977442, 40.77591527158133],\n",
       "     [-73.8248680090884, 40.776542354845354],\n",
       "     [-73.82433101941247, 40.77674307080467],\n",
       "     [-73.82428360049255, 40.77698996098387],\n",
       "     [-73.82422147275781, 40.777235226984594],\n",
       "     [-73.82414480492373, 40.77747809322916],\n",
       "     [-73.82405384580922, 40.77771783066184],\n",
       "     [-73.82382109030323, 40.77836013815088],\n",
       "     [-73.82376244869411, 40.77850455199374],\n",
       "     [-73.82354681609371, 40.77903553756728],\n",
       "     [-73.82331286855239, 40.77957865983404],\n",
       "     [-73.82223999335496, 40.77949023704663],\n",
       "     [-73.82132278461545, 40.779409258891754],\n",
       "     [-73.82032141636081, 40.77933468076796],\n",
       "     [-73.81981042155475, 40.779296989188026],\n",
       "     [-73.81930985112398, 40.779260059856924],\n",
       "     [-73.8172814697289, 40.7791055131991],\n",
       "     [-73.81452997736083, 40.778888174879235],\n",
       "     [-73.81466305923627, 40.777904687696456],\n",
       "     [-73.81475883042387, 40.777203501143916],\n",
       "     [-73.81478821761245, 40.77699573898305],\n",
       "     [-73.81485850655602, 40.7764859231195],\n",
       "     [-73.81268626346109, 40.77631279409203],\n",
       "     [-73.80945252100933, 40.776058078746075],\n",
       "     [-73.80659228450709, 40.77583186152789],\n",
       "     [-73.80379022888246, 40.77561011179248]]]]}}"
      ]
     },
     "execution_count": 130,
     "metadata": {},
     "output_type": "execute_result"
    }
   ],
   "source": [
    "# Explore structure of JSON\n",
    "# Each 'feature' has the coordinate map, borough name, and nta_name, which is what we're interested in\n",
    "\n",
    "nycmap['features'][0]"
   ]
  },
  {
   "cell_type": "code",
   "execution_count": 131,
   "metadata": {
    "scrolled": false
   },
   "outputs": [
    {
     "data": {
      "text/html": [
       "<div>\n",
       "<style scoped>\n",
       "    .dataframe tbody tr th:only-of-type {\n",
       "        vertical-align: middle;\n",
       "    }\n",
       "\n",
       "    .dataframe tbody tr th {\n",
       "        vertical-align: top;\n",
       "    }\n",
       "\n",
       "    .dataframe thead th {\n",
       "        text-align: right;\n",
       "    }\n",
       "</style>\n",
       "<table border=\"1\" class=\"dataframe\">\n",
       "  <thead>\n",
       "    <tr style=\"text-align: right;\">\n",
       "      <th></th>\n",
       "      <th>station_id</th>\n",
       "      <th>lat</th>\n",
       "      <th>long</th>\n",
       "      <th>point_coordinates</th>\n",
       "    </tr>\n",
       "  </thead>\n",
       "  <tbody>\n",
       "    <tr>\n",
       "      <th>0</th>\n",
       "      <td>72</td>\n",
       "      <td>40.767272</td>\n",
       "      <td>-73.993929</td>\n",
       "      <td>POINT (-73.99392888 40.76727216)</td>\n",
       "    </tr>\n",
       "    <tr>\n",
       "      <th>1</th>\n",
       "      <td>79</td>\n",
       "      <td>40.719116</td>\n",
       "      <td>-74.006667</td>\n",
       "      <td>POINT (-74.00666661 40.71911552)</td>\n",
       "    </tr>\n",
       "    <tr>\n",
       "      <th>2</th>\n",
       "      <td>82</td>\n",
       "      <td>40.711174</td>\n",
       "      <td>-74.000165</td>\n",
       "      <td>POINT (-74.00016545 40.71117416)</td>\n",
       "    </tr>\n",
       "    <tr>\n",
       "      <th>3</th>\n",
       "      <td>83</td>\n",
       "      <td>40.683826</td>\n",
       "      <td>-73.976323</td>\n",
       "      <td>POINT (-73.97632328 40.68382604)</td>\n",
       "    </tr>\n",
       "    <tr>\n",
       "      <th>4</th>\n",
       "      <td>116</td>\n",
       "      <td>40.741776</td>\n",
       "      <td>-74.001497</td>\n",
       "      <td>POINT (-74.00149746 40.74177603)</td>\n",
       "    </tr>\n",
       "  </tbody>\n",
       "</table>\n",
       "</div>"
      ],
      "text/plain": [
       "  station_id        lat       long                 point_coordinates\n",
       "0         72  40.767272 -73.993929  POINT (-73.99392888 40.76727216)\n",
       "1         79  40.719116 -74.006667  POINT (-74.00666661 40.71911552)\n",
       "2         82  40.711174 -74.000165  POINT (-74.00016545 40.71117416)\n",
       "3         83  40.683826 -73.976323  POINT (-73.97632328 40.68382604)\n",
       "4        116  40.741776 -74.001497  POINT (-74.00149746 40.74177603)"
      ]
     },
     "execution_count": 131,
     "metadata": {},
     "output_type": "execute_result"
    }
   ],
   "source": [
    "# Create a 'point' variable column out of the longitute and latitutde\n",
    "\n",
    "df_stations['point_coordinates'] = df_stations.apply(lambda row: Point(row['long'], row['lat']), axis=1)\n",
    "\n",
    "df_stations.head()"
   ]
  },
  {
   "cell_type": "code",
   "execution_count": 132,
   "metadata": {},
   "outputs": [],
   "source": [
    "# Apply neighborhood function to the coordinates\n",
    "\n",
    "df_stations['neighborhood'] = df_stations['point_coordinates'].apply(lambda x: neighborhood_json(x))"
   ]
  },
  {
   "cell_type": "code",
   "execution_count": 133,
   "metadata": {},
   "outputs": [],
   "source": [
    "# Apply borough function to the coordinates\n",
    "\n",
    "df_stations['borough'] = df_stations['point_coordinates'].apply(lambda x: borough_json(x))"
   ]
  },
  {
   "cell_type": "code",
   "execution_count": 134,
   "metadata": {},
   "outputs": [
    {
     "data": {
      "text/plain": [
       "Manhattan    1624\n",
       "Brooklyn     1092\n",
       "Bronx         650\n",
       "Queens        474\n",
       "Name: borough, dtype: int64"
      ]
     },
     "execution_count": 134,
     "metadata": {},
     "output_type": "execute_result"
    }
   ],
   "source": [
    "# Sense check the output\n",
    "\n",
    "df_stations['borough'].value_counts()"
   ]
  },
  {
   "cell_type": "code",
   "execution_count": 135,
   "metadata": {},
   "outputs": [
    {
     "data": {
      "text/plain": [
       "Astoria                                       134\n",
       "Bushwick South                                130\n",
       "Hudson Yards-Chelsea-Flatiron-Union Square    114\n",
       "Midtown-Midtown South                         107\n",
       "Mott Haven-Port Morris                         94\n",
       "                                             ... \n",
       "park-cemetery-etc-Queens                        9\n",
       "Bay Ridge                                       8\n",
       "Kensington-Ocean Parkway                        7\n",
       "Borough Park                                    2\n",
       "Flatbush                                        2\n",
       "Name: neighborhood, Length: 82, dtype: int64"
      ]
     },
     "execution_count": 135,
     "metadata": {},
     "output_type": "execute_result"
    }
   ],
   "source": [
    "df_stations['neighborhood'].value_counts()"
   ]
  },
  {
   "cell_type": "code",
   "execution_count": 137,
   "metadata": {},
   "outputs": [
    {
     "data": {
      "text/html": [
       "<div>\n",
       "<style scoped>\n",
       "    .dataframe tbody tr th:only-of-type {\n",
       "        vertical-align: middle;\n",
       "    }\n",
       "\n",
       "    .dataframe tbody tr th {\n",
       "        vertical-align: top;\n",
       "    }\n",
       "\n",
       "    .dataframe thead th {\n",
       "        text-align: right;\n",
       "    }\n",
       "</style>\n",
       "<table border=\"1\" class=\"dataframe\">\n",
       "  <thead>\n",
       "    <tr style=\"text-align: right;\">\n",
       "      <th></th>\n",
       "      <th>station_id</th>\n",
       "      <th>lat</th>\n",
       "      <th>long</th>\n",
       "      <th>point_coordinates</th>\n",
       "      <th>neighborhood</th>\n",
       "      <th>borough</th>\n",
       "    </tr>\n",
       "  </thead>\n",
       "  <tbody>\n",
       "    <tr>\n",
       "      <th>0</th>\n",
       "      <td>72</td>\n",
       "      <td>40.767272</td>\n",
       "      <td>-73.993929</td>\n",
       "      <td>POINT (-73.99392888 40.76727216)</td>\n",
       "      <td>Clinton</td>\n",
       "      <td>Manhattan</td>\n",
       "    </tr>\n",
       "    <tr>\n",
       "      <th>1</th>\n",
       "      <td>79</td>\n",
       "      <td>40.719116</td>\n",
       "      <td>-74.006667</td>\n",
       "      <td>POINT (-74.00666661 40.71911552)</td>\n",
       "      <td>SoHo-TriBeCa-Civic Center-Little Italy</td>\n",
       "      <td>Manhattan</td>\n",
       "    </tr>\n",
       "    <tr>\n",
       "      <th>2</th>\n",
       "      <td>82</td>\n",
       "      <td>40.711174</td>\n",
       "      <td>-74.000165</td>\n",
       "      <td>POINT (-74.00016545 40.71117416)</td>\n",
       "      <td>Chinatown</td>\n",
       "      <td>Manhattan</td>\n",
       "    </tr>\n",
       "    <tr>\n",
       "      <th>3</th>\n",
       "      <td>83</td>\n",
       "      <td>40.683826</td>\n",
       "      <td>-73.976323</td>\n",
       "      <td>POINT (-73.97632328 40.68382604)</td>\n",
       "      <td>Fort Greene</td>\n",
       "      <td>Brooklyn</td>\n",
       "    </tr>\n",
       "    <tr>\n",
       "      <th>4</th>\n",
       "      <td>116</td>\n",
       "      <td>40.741776</td>\n",
       "      <td>-74.001497</td>\n",
       "      <td>POINT (-74.00149746 40.74177603)</td>\n",
       "      <td>Hudson Yards-Chelsea-Flatiron-Union Square</td>\n",
       "      <td>Manhattan</td>\n",
       "    </tr>\n",
       "  </tbody>\n",
       "</table>\n",
       "</div>"
      ],
      "text/plain": [
       "  station_id        lat       long                 point_coordinates  \\\n",
       "0         72  40.767272 -73.993929  POINT (-73.99392888 40.76727216)   \n",
       "1         79  40.719116 -74.006667  POINT (-74.00666661 40.71911552)   \n",
       "2         82  40.711174 -74.000165  POINT (-74.00016545 40.71117416)   \n",
       "3         83  40.683826 -73.976323  POINT (-73.97632328 40.68382604)   \n",
       "4        116  40.741776 -74.001497  POINT (-74.00149746 40.74177603)   \n",
       "\n",
       "                                 neighborhood    borough  \n",
       "0                                     Clinton  Manhattan  \n",
       "1      SoHo-TriBeCa-Civic Center-Little Italy  Manhattan  \n",
       "2                                   Chinatown  Manhattan  \n",
       "3                                 Fort Greene   Brooklyn  \n",
       "4  Hudson Yards-Chelsea-Flatiron-Union Square  Manhattan  "
      ]
     },
     "execution_count": 137,
     "metadata": {},
     "output_type": "execute_result"
    }
   ],
   "source": [
    "df_stations.head()"
   ]
  },
  {
   "cell_type": "code",
   "execution_count": 147,
   "metadata": {},
   "outputs": [],
   "source": [
    "# Map these stations back to the main dataframe based on station_id\n",
    "# full_data = full_data.merge(invasive_threat, left_on='Scientific name', right_on='Scientific name', how='left')\n",
    "\n",
    "df = df.merge(df_stations, left_on='station_id', right_on='station_id', how='left')\n",
    "\n",
    "df.drop(labels=['lat_y', 'long_y', 'point_coordinates'], axis=1, inplace=True)\n",
    "\n",
    "df.rename(columns={'lat_x': 'lat', 'long_x': 'long'}, inplace=True)"
   ]
  },
  {
   "cell_type": "code",
   "execution_count": 149,
   "metadata": {},
   "outputs": [
    {
     "data": {
      "text/html": [
       "<div>\n",
       "<style scoped>\n",
       "    .dataframe tbody tr th:only-of-type {\n",
       "        vertical-align: middle;\n",
       "    }\n",
       "\n",
       "    .dataframe tbody tr th {\n",
       "        vertical-align: top;\n",
       "    }\n",
       "\n",
       "    .dataframe thead th {\n",
       "        text-align: right;\n",
       "    }\n",
       "</style>\n",
       "<table border=\"1\" class=\"dataframe\">\n",
       "  <thead>\n",
       "    <tr style=\"text-align: right;\">\n",
       "      <th></th>\n",
       "      <th>station_id</th>\n",
       "      <th>lat</th>\n",
       "      <th>long</th>\n",
       "      <th>ride_count</th>\n",
       "      <th>year</th>\n",
       "      <th>neighborhood</th>\n",
       "      <th>borough</th>\n",
       "    </tr>\n",
       "  </thead>\n",
       "  <tbody>\n",
       "    <tr>\n",
       "      <th>0</th>\n",
       "      <td>72</td>\n",
       "      <td>40.767272</td>\n",
       "      <td>-73.993929</td>\n",
       "      <td>40</td>\n",
       "      <td>2013</td>\n",
       "      <td>Clinton</td>\n",
       "      <td>Manhattan</td>\n",
       "    </tr>\n",
       "    <tr>\n",
       "      <th>1</th>\n",
       "      <td>79</td>\n",
       "      <td>40.719116</td>\n",
       "      <td>-74.006667</td>\n",
       "      <td>61</td>\n",
       "      <td>2013</td>\n",
       "      <td>SoHo-TriBeCa-Civic Center-Little Italy</td>\n",
       "      <td>Manhattan</td>\n",
       "    </tr>\n",
       "    <tr>\n",
       "      <th>2</th>\n",
       "      <td>82</td>\n",
       "      <td>40.711174</td>\n",
       "      <td>-74.000165</td>\n",
       "      <td>6</td>\n",
       "      <td>2013</td>\n",
       "      <td>Chinatown</td>\n",
       "      <td>Manhattan</td>\n",
       "    </tr>\n",
       "    <tr>\n",
       "      <th>3</th>\n",
       "      <td>83</td>\n",
       "      <td>40.683826</td>\n",
       "      <td>-73.976323</td>\n",
       "      <td>32</td>\n",
       "      <td>2013</td>\n",
       "      <td>Fort Greene</td>\n",
       "      <td>Brooklyn</td>\n",
       "    </tr>\n",
       "    <tr>\n",
       "      <th>4</th>\n",
       "      <td>116</td>\n",
       "      <td>40.741776</td>\n",
       "      <td>-74.001497</td>\n",
       "      <td>53</td>\n",
       "      <td>2013</td>\n",
       "      <td>Hudson Yards-Chelsea-Flatiron-Union Square</td>\n",
       "      <td>Manhattan</td>\n",
       "    </tr>\n",
       "  </tbody>\n",
       "</table>\n",
       "</div>"
      ],
      "text/plain": [
       "  station_id        lat       long  ride_count  year  \\\n",
       "0         72  40.767272 -73.993929          40  2013   \n",
       "1         79  40.719116 -74.006667          61  2013   \n",
       "2         82  40.711174 -74.000165           6  2013   \n",
       "3         83  40.683826 -73.976323          32  2013   \n",
       "4        116  40.741776 -74.001497          53  2013   \n",
       "\n",
       "                                 neighborhood    borough  \n",
       "0                                     Clinton  Manhattan  \n",
       "1      SoHo-TriBeCa-Civic Center-Little Italy  Manhattan  \n",
       "2                                   Chinatown  Manhattan  \n",
       "3                                 Fort Greene   Brooklyn  \n",
       "4  Hudson Yards-Chelsea-Flatiron-Union Square  Manhattan  "
      ]
     },
     "execution_count": 149,
     "metadata": {},
     "output_type": "execute_result"
    }
   ],
   "source": [
    "df.head()"
   ]
  },
  {
   "cell_type": "code",
   "execution_count": 151,
   "metadata": {},
   "outputs": [],
   "source": [
    "# Read to CSV\n",
    "\n",
    "df.to_csv('./clean_data/clean_ridershare_data.csv', index=False)"
   ]
  }
 ],
 "metadata": {
  "kernelspec": {
   "display_name": "Python (learn-env)",
   "language": "python",
   "name": "learn-env"
  },
  "language_info": {
   "codemirror_mode": {
    "name": "ipython",
    "version": 3
   },
   "file_extension": ".py",
   "mimetype": "text/x-python",
   "name": "python",
   "nbconvert_exporter": "python",
   "pygments_lexer": "ipython3",
   "version": "3.8.5"
  }
 },
 "nbformat": 4,
 "nbformat_minor": 4
}
